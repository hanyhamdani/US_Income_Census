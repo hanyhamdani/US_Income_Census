{
 "cells": [
  {
   "cell_type": "markdown",
   "metadata": {},
   "source": [
    "## <span style = \"color:blue\"> Data Mining Group Homework 1 </span>\n",
    "### <span style=\"color:purple\"> Syed Hassan Raza, Brittany Thum, Xinpei Zhao and Yuying Chen </span>"
   ]
  },
  {
   "cell_type": "code",
   "execution_count": 1,
   "metadata": {},
   "outputs": [],
   "source": [
    "#importing useful libraries. more libraries will be added later in relative chunks\n",
    "import pandas as pd\n",
    "import numpy as np\n",
    "import matplotlib.pyplot as plt\n",
    "import seaborn as sns\n",
    "from sklearn.model_selection import train_test_split\n",
    "from sklearn.naive_bayes import GaussianNB"
   ]
  },
  {
   "cell_type": "code",
   "execution_count": 2,
   "metadata": {},
   "outputs": [],
   "source": [
    "#issues with decision tree arrows is solved by this code\n",
    "#sns.reset_defaults()"
   ]
  },
  {
   "cell_type": "code",
   "execution_count": 3,
   "metadata": {},
   "outputs": [
    {
     "data": {
      "text/html": [
       "<div>\n",
       "<style scoped>\n",
       "    .dataframe tbody tr th:only-of-type {\n",
       "        vertical-align: middle;\n",
       "    }\n",
       "\n",
       "    .dataframe tbody tr th {\n",
       "        vertical-align: top;\n",
       "    }\n",
       "\n",
       "    .dataframe thead th {\n",
       "        text-align: right;\n",
       "    }\n",
       "</style>\n",
       "<table border=\"1\" class=\"dataframe\">\n",
       "  <thead>\n",
       "    <tr style=\"text-align: right;\">\n",
       "      <th></th>\n",
       "      <th>0</th>\n",
       "      <th>1</th>\n",
       "      <th>2</th>\n",
       "      <th>3</th>\n",
       "      <th>4</th>\n",
       "      <th>5</th>\n",
       "      <th>6</th>\n",
       "      <th>7</th>\n",
       "      <th>8</th>\n",
       "      <th>9</th>\n",
       "      <th>10</th>\n",
       "      <th>11</th>\n",
       "      <th>12</th>\n",
       "      <th>13</th>\n",
       "      <th>14</th>\n",
       "    </tr>\n",
       "  </thead>\n",
       "  <tbody>\n",
       "    <tr>\n",
       "      <th>0</th>\n",
       "      <td>39</td>\n",
       "      <td>State-gov</td>\n",
       "      <td>77516</td>\n",
       "      <td>Bachelors</td>\n",
       "      <td>13</td>\n",
       "      <td>Never-married</td>\n",
       "      <td>Adm-clerical</td>\n",
       "      <td>Not-in-family</td>\n",
       "      <td>White</td>\n",
       "      <td>Male</td>\n",
       "      <td>2174</td>\n",
       "      <td>0</td>\n",
       "      <td>40</td>\n",
       "      <td>United-States</td>\n",
       "      <td>&lt;=50K</td>\n",
       "    </tr>\n",
       "    <tr>\n",
       "      <th>1</th>\n",
       "      <td>50</td>\n",
       "      <td>Self-emp-not-inc</td>\n",
       "      <td>83311</td>\n",
       "      <td>Bachelors</td>\n",
       "      <td>13</td>\n",
       "      <td>Married-civ-spouse</td>\n",
       "      <td>Exec-managerial</td>\n",
       "      <td>Husband</td>\n",
       "      <td>White</td>\n",
       "      <td>Male</td>\n",
       "      <td>0</td>\n",
       "      <td>0</td>\n",
       "      <td>13</td>\n",
       "      <td>United-States</td>\n",
       "      <td>&lt;=50K</td>\n",
       "    </tr>\n",
       "    <tr>\n",
       "      <th>2</th>\n",
       "      <td>38</td>\n",
       "      <td>Private</td>\n",
       "      <td>215646</td>\n",
       "      <td>HS-grad</td>\n",
       "      <td>9</td>\n",
       "      <td>Divorced</td>\n",
       "      <td>Handlers-cleaners</td>\n",
       "      <td>Not-in-family</td>\n",
       "      <td>White</td>\n",
       "      <td>Male</td>\n",
       "      <td>0</td>\n",
       "      <td>0</td>\n",
       "      <td>40</td>\n",
       "      <td>United-States</td>\n",
       "      <td>&lt;=50K</td>\n",
       "    </tr>\n",
       "    <tr>\n",
       "      <th>3</th>\n",
       "      <td>53</td>\n",
       "      <td>Private</td>\n",
       "      <td>234721</td>\n",
       "      <td>11th</td>\n",
       "      <td>7</td>\n",
       "      <td>Married-civ-spouse</td>\n",
       "      <td>Handlers-cleaners</td>\n",
       "      <td>Husband</td>\n",
       "      <td>Black</td>\n",
       "      <td>Male</td>\n",
       "      <td>0</td>\n",
       "      <td>0</td>\n",
       "      <td>40</td>\n",
       "      <td>United-States</td>\n",
       "      <td>&lt;=50K</td>\n",
       "    </tr>\n",
       "    <tr>\n",
       "      <th>4</th>\n",
       "      <td>28</td>\n",
       "      <td>Private</td>\n",
       "      <td>338409</td>\n",
       "      <td>Bachelors</td>\n",
       "      <td>13</td>\n",
       "      <td>Married-civ-spouse</td>\n",
       "      <td>Prof-specialty</td>\n",
       "      <td>Wife</td>\n",
       "      <td>Black</td>\n",
       "      <td>Female</td>\n",
       "      <td>0</td>\n",
       "      <td>0</td>\n",
       "      <td>40</td>\n",
       "      <td>Cuba</td>\n",
       "      <td>&lt;=50K</td>\n",
       "    </tr>\n",
       "  </tbody>\n",
       "</table>\n",
       "</div>"
      ],
      "text/plain": [
       "   0                  1       2           3   4                    5   \\\n",
       "0  39          State-gov   77516   Bachelors  13        Never-married   \n",
       "1  50   Self-emp-not-inc   83311   Bachelors  13   Married-civ-spouse   \n",
       "2  38            Private  215646     HS-grad   9             Divorced   \n",
       "3  53            Private  234721        11th   7   Married-civ-spouse   \n",
       "4  28            Private  338409   Bachelors  13   Married-civ-spouse   \n",
       "\n",
       "                   6               7       8        9     10  11  12  \\\n",
       "0        Adm-clerical   Not-in-family   White     Male  2174   0  40   \n",
       "1     Exec-managerial         Husband   White     Male     0   0  13   \n",
       "2   Handlers-cleaners   Not-in-family   White     Male     0   0  40   \n",
       "3   Handlers-cleaners         Husband   Black     Male     0   0  40   \n",
       "4      Prof-specialty            Wife   Black   Female     0   0  40   \n",
       "\n",
       "               13      14  \n",
       "0   United-States   <=50K  \n",
       "1   United-States   <=50K  \n",
       "2   United-States   <=50K  \n",
       "3   United-States   <=50K  \n",
       "4            Cuba   <=50K  "
      ]
     },
     "execution_count": 3,
     "metadata": {},
     "output_type": "execute_result"
    }
   ],
   "source": [
    "data = pd.read_csv(\"/Users/hanyhamdani/Desktop/Coursework/Mod B Fall/DataMining/adult.csv\", header = None)\n",
    "data.head()\n"
   ]
  },
  {
   "cell_type": "code",
   "execution_count": 4,
   "metadata": {},
   "outputs": [
    {
     "data": {
      "text/plain": [
       "32561"
      ]
     },
     "execution_count": 4,
     "metadata": {},
     "output_type": "execute_result"
    }
   ],
   "source": [
    "data.shape[0]"
   ]
  },
  {
   "cell_type": "code",
   "execution_count": 5,
   "metadata": {},
   "outputs": [
    {
     "data": {
      "text/html": [
       "<div>\n",
       "<style scoped>\n",
       "    .dataframe tbody tr th:only-of-type {\n",
       "        vertical-align: middle;\n",
       "    }\n",
       "\n",
       "    .dataframe tbody tr th {\n",
       "        vertical-align: top;\n",
       "    }\n",
       "\n",
       "    .dataframe thead th {\n",
       "        text-align: right;\n",
       "    }\n",
       "</style>\n",
       "<table border=\"1\" class=\"dataframe\">\n",
       "  <thead>\n",
       "    <tr style=\"text-align: right;\">\n",
       "      <th></th>\n",
       "      <th>Age</th>\n",
       "      <th>WorkClass</th>\n",
       "      <th>Final_Weight</th>\n",
       "      <th>Education</th>\n",
       "      <th>Edu_Num</th>\n",
       "      <th>Martial_Status</th>\n",
       "      <th>Occupation</th>\n",
       "      <th>Relationship</th>\n",
       "      <th>Race</th>\n",
       "      <th>Sex</th>\n",
       "      <th>Capital_Gain</th>\n",
       "      <th>Capital_Loss</th>\n",
       "      <th>Hours_per_Week</th>\n",
       "      <th>Native_Country</th>\n",
       "      <th>Income</th>\n",
       "    </tr>\n",
       "  </thead>\n",
       "  <tbody>\n",
       "    <tr>\n",
       "      <th>0</th>\n",
       "      <td>39</td>\n",
       "      <td>State-gov</td>\n",
       "      <td>77516</td>\n",
       "      <td>Bachelors</td>\n",
       "      <td>13</td>\n",
       "      <td>Never-married</td>\n",
       "      <td>Adm-clerical</td>\n",
       "      <td>Not-in-family</td>\n",
       "      <td>White</td>\n",
       "      <td>Male</td>\n",
       "      <td>2174</td>\n",
       "      <td>0</td>\n",
       "      <td>40</td>\n",
       "      <td>United-States</td>\n",
       "      <td>&lt;=50K</td>\n",
       "    </tr>\n",
       "    <tr>\n",
       "      <th>1</th>\n",
       "      <td>50</td>\n",
       "      <td>Self-emp-not-inc</td>\n",
       "      <td>83311</td>\n",
       "      <td>Bachelors</td>\n",
       "      <td>13</td>\n",
       "      <td>Married-civ-spouse</td>\n",
       "      <td>Exec-managerial</td>\n",
       "      <td>Husband</td>\n",
       "      <td>White</td>\n",
       "      <td>Male</td>\n",
       "      <td>0</td>\n",
       "      <td>0</td>\n",
       "      <td>13</td>\n",
       "      <td>United-States</td>\n",
       "      <td>&lt;=50K</td>\n",
       "    </tr>\n",
       "    <tr>\n",
       "      <th>2</th>\n",
       "      <td>38</td>\n",
       "      <td>Private</td>\n",
       "      <td>215646</td>\n",
       "      <td>HS-grad</td>\n",
       "      <td>9</td>\n",
       "      <td>Divorced</td>\n",
       "      <td>Handlers-cleaners</td>\n",
       "      <td>Not-in-family</td>\n",
       "      <td>White</td>\n",
       "      <td>Male</td>\n",
       "      <td>0</td>\n",
       "      <td>0</td>\n",
       "      <td>40</td>\n",
       "      <td>United-States</td>\n",
       "      <td>&lt;=50K</td>\n",
       "    </tr>\n",
       "    <tr>\n",
       "      <th>3</th>\n",
       "      <td>53</td>\n",
       "      <td>Private</td>\n",
       "      <td>234721</td>\n",
       "      <td>11th</td>\n",
       "      <td>7</td>\n",
       "      <td>Married-civ-spouse</td>\n",
       "      <td>Handlers-cleaners</td>\n",
       "      <td>Husband</td>\n",
       "      <td>Black</td>\n",
       "      <td>Male</td>\n",
       "      <td>0</td>\n",
       "      <td>0</td>\n",
       "      <td>40</td>\n",
       "      <td>United-States</td>\n",
       "      <td>&lt;=50K</td>\n",
       "    </tr>\n",
       "    <tr>\n",
       "      <th>4</th>\n",
       "      <td>28</td>\n",
       "      <td>Private</td>\n",
       "      <td>338409</td>\n",
       "      <td>Bachelors</td>\n",
       "      <td>13</td>\n",
       "      <td>Married-civ-spouse</td>\n",
       "      <td>Prof-specialty</td>\n",
       "      <td>Wife</td>\n",
       "      <td>Black</td>\n",
       "      <td>Female</td>\n",
       "      <td>0</td>\n",
       "      <td>0</td>\n",
       "      <td>40</td>\n",
       "      <td>Cuba</td>\n",
       "      <td>&lt;=50K</td>\n",
       "    </tr>\n",
       "  </tbody>\n",
       "</table>\n",
       "</div>"
      ],
      "text/plain": [
       "   Age          WorkClass  Final_Weight   Education  Edu_Num  \\\n",
       "0   39          State-gov         77516   Bachelors       13   \n",
       "1   50   Self-emp-not-inc         83311   Bachelors       13   \n",
       "2   38            Private        215646     HS-grad        9   \n",
       "3   53            Private        234721        11th        7   \n",
       "4   28            Private        338409   Bachelors       13   \n",
       "\n",
       "        Martial_Status          Occupation    Relationship    Race      Sex  \\\n",
       "0        Never-married        Adm-clerical   Not-in-family   White     Male   \n",
       "1   Married-civ-spouse     Exec-managerial         Husband   White     Male   \n",
       "2             Divorced   Handlers-cleaners   Not-in-family   White     Male   \n",
       "3   Married-civ-spouse   Handlers-cleaners         Husband   Black     Male   \n",
       "4   Married-civ-spouse      Prof-specialty            Wife   Black   Female   \n",
       "\n",
       "   Capital_Gain  Capital_Loss  Hours_per_Week  Native_Country  Income  \n",
       "0          2174             0              40   United-States   <=50K  \n",
       "1             0             0              13   United-States   <=50K  \n",
       "2             0             0              40   United-States   <=50K  \n",
       "3             0             0              40   United-States   <=50K  \n",
       "4             0             0              40            Cuba   <=50K  "
      ]
     },
     "execution_count": 5,
     "metadata": {},
     "output_type": "execute_result"
    }
   ],
   "source": [
    "col_names = [\"Age\", \"WorkClass\", \"Final_Weight\", \"Education\",\n",
    "             \"Edu_Num\", \"Martial_Status\", \"Occupation\", \"Relationship\",\n",
    "             \"Race\", \"Sex\", \"Capital_Gain\", \"Capital_Loss\", \"Hours_per_Week\",\n",
    "             \"Native_Country\", \"Income\"]\n",
    "\n",
    "data.columns = col_names\n",
    "\n",
    "data.head()"
   ]
  },
  {
   "cell_type": "code",
   "execution_count": 6,
   "metadata": {},
   "outputs": [
    {
     "data": {
      "text/plain": [
       "( HS-grad         10501\n",
       "  Some-college     7291\n",
       "  Bachelors        5355\n",
       "  Masters          1723\n",
       "  Assoc-voc        1382\n",
       "  11th             1175\n",
       "  Assoc-acdm       1067\n",
       "  10th              933\n",
       "  7th-8th           646\n",
       "  Prof-school       576\n",
       "  9th               514\n",
       "  12th              433\n",
       "  Doctorate         413\n",
       "  5th-6th           333\n",
       "  1st-4th           168\n",
       "  Preschool          51\n",
       " Name: Education, dtype: int64, 9     10501\n",
       " 10     7291\n",
       " 13     5355\n",
       " 14     1723\n",
       " 11     1382\n",
       " 7      1175\n",
       " 12     1067\n",
       " 6       933\n",
       " 4       646\n",
       " 15      576\n",
       " 5       514\n",
       " 8       433\n",
       " 16      413\n",
       " 3       333\n",
       " 2       168\n",
       " 1        51\n",
       " Name: Edu_Num, dtype: int64)"
      ]
     },
     "execution_count": 6,
     "metadata": {},
     "output_type": "execute_result"
    }
   ],
   "source": [
    "(data['Education'].value_counts(),data['Edu_Num'].value_counts()) \n",
    "#Edu_Num and Education are same columns.\n",
    "#so we need to keep only one of them\n"
   ]
  },
  {
   "cell_type": "code",
   "execution_count": 7,
   "metadata": {},
   "outputs": [],
   "source": [
    "fw_sum = data['Final_Weight'].sum()"
   ]
  },
  {
   "cell_type": "code",
   "execution_count": 8,
   "metadata": {},
   "outputs": [],
   "source": [
    "#adding the whole dataset by replicating each row with its corresponding Final_Weight\n",
    "#data = data.reindex(data.index.repeat(data['Final_Weight']))"
   ]
  },
  {
   "cell_type": "markdown",
   "metadata": {},
   "source": [
    "# Predict if household incomes greater than $50K"
   ]
  },
  {
   "cell_type": "markdown",
   "metadata": {},
   "source": [
    "# Exploratory Data Analysis"
   ]
  },
  {
   "cell_type": "markdown",
   "metadata": {},
   "source": [
    "#### Q1: How many observations (rows) and how many variables (columns) are there in the raw data?"
   ]
  },
  {
   "cell_type": "code",
   "execution_count": 9,
   "metadata": {},
   "outputs": [
    {
     "name": "stdout",
     "output_type": "stream",
     "text": [
      "Actual Number of Rows is:  6179373392 ,however we have rescaled it and got:  617937\n",
      "The data file given without final weight replication, has 32561 rows\n",
      "Number of Columns is:  15\n"
     ]
    }
   ],
   "source": [
    "print(\"Actual Number of Rows is: \", fw_sum, \",however we have rescaled it and got: \", int(fw_sum/10000))\n",
    "print(\"The data file given without final weight replication, has\", data.shape[0],\"rows\")\n",
    "print(\"Number of Columns is: \", data.shape[1])\n",
    "#print(\"These columns are: \",data.columns.values)"
   ]
  },
  {
   "cell_type": "markdown",
   "metadata": {},
   "source": [
    "#### Q2:Produce a table of variables showing their types?"
   ]
  },
  {
   "cell_type": "code",
   "execution_count": 10,
   "metadata": {},
   "outputs": [
    {
     "name": "stdout",
     "output_type": "stream",
     "text": [
      "<class 'pandas.core.frame.DataFrame'>\n",
      "RangeIndex: 32561 entries, 0 to 32560\n",
      "Data columns (total 15 columns):\n",
      "Age               32561 non-null int64\n",
      "WorkClass         32561 non-null object\n",
      "Final_Weight      32561 non-null int64\n",
      "Education         32561 non-null object\n",
      "Edu_Num           32561 non-null int64\n",
      "Martial_Status    32561 non-null object\n",
      "Occupation        32561 non-null object\n",
      "Relationship      32561 non-null object\n",
      "Race              32561 non-null object\n",
      "Sex               32561 non-null object\n",
      "Capital_Gain      32561 non-null int64\n",
      "Capital_Loss      32561 non-null int64\n",
      "Hours_per_Week    32561 non-null int64\n",
      "Native_Country    32561 non-null object\n",
      "Income            32561 non-null object\n",
      "dtypes: int64(6), object(9)\n",
      "memory usage: 3.7+ MB\n"
     ]
    }
   ],
   "source": [
    "data.info()"
   ]
  },
  {
   "cell_type": "markdown",
   "metadata": {},
   "source": [
    "#### Q3: Some of the variables appear to be numeric but should be treated as categorical. Your best clue is whether a variable has only a few discrete values. Which numeric variables should be treated as categorical?"
   ]
  },
  {
   "cell_type": "code",
   "execution_count": 11,
   "metadata": {},
   "outputs": [
    {
     "name": "stdout",
     "output_type": "stream",
     "text": [
      "<class 'pandas.core.frame.DataFrame'>\n",
      "RangeIndex: 32561 entries, 0 to 32560\n",
      "Data columns (total 15 columns):\n",
      "Age               32561 non-null int64\n",
      "WorkClass         32561 non-null object\n",
      "Final_Weight      32561 non-null int64\n",
      "Education         32561 non-null object\n",
      "Edu_Num           32561 non-null int64\n",
      "Martial_Status    32561 non-null object\n",
      "Occupation        32561 non-null object\n",
      "Relationship      32561 non-null object\n",
      "Race              32561 non-null object\n",
      "Sex               32561 non-null object\n",
      "Capital_Gain      32561 non-null int64\n",
      "Capital_Loss      32561 non-null int64\n",
      "Hours_per_Week    32561 non-null int64\n",
      "Native_Country    32561 non-null object\n",
      "Income            32561 non-null object\n",
      "dtypes: int64(6), object(9)\n",
      "memory usage: 3.7+ MB\n"
     ]
    }
   ],
   "source": [
    "#\"Education\" ,\"Martial_Status\", \"Occupation\", \"Relationship\", \"Race\", \"Sex\", \"Native_Country\" are obvious\n",
    "#lets check other doubtful ones:  Edu_Number, Final_Weight, Capital_Gain, Capital_Loss, Hours_per_Week, Income\n",
    "\n",
    "data.info()"
   ]
  },
  {
   "cell_type": "markdown",
   "metadata": {},
   "source": [
    "#### <span style= \"color:green\"> Ans: Other column to include in category is: Edu_Num  </span>"
   ]
  },
  {
   "cell_type": "markdown",
   "metadata": {},
   "source": [
    "All Categorical Columns are:\n",
    "<span style='color:blue'>   \n",
    "\"Education\" ,\"Martial_Status\", \"Occupation\", \n",
    "\"Relationship\",\"Race\", \"Sex\", \"Native_Country\",\n",
    "\"Edu_Num\", \"Hours_per_Week\",\"Income\"\n",
    "</span>"
   ]
  },
  {
   "cell_type": "code",
   "execution_count": 12,
   "metadata": {},
   "outputs": [
    {
     "name": "stdout",
     "output_type": "stream",
     "text": [
      "WorkClass  :   Private             22696\n",
      " Self-emp-not-inc     2541\n",
      " Local-gov            2093\n",
      " ?                    1836\n",
      " State-gov            1298\n",
      " Self-emp-inc         1116\n",
      " Federal-gov           960\n",
      " Without-pay            14\n",
      " Never-worked            7\n",
      "Name: WorkClass, dtype: int64\n",
      "Education  :   HS-grad         10501\n",
      " Some-college     7291\n",
      " Bachelors        5355\n",
      " Masters          1723\n",
      " Assoc-voc        1382\n",
      " 11th             1175\n",
      " Assoc-acdm       1067\n",
      " 10th              933\n",
      " 7th-8th           646\n",
      " Prof-school       576\n",
      " 9th               514\n",
      " 12th              433\n",
      " Doctorate         413\n",
      " 5th-6th           333\n",
      " 1st-4th           168\n",
      " Preschool          51\n",
      "Name: Education, dtype: int64\n",
      "Edu_Num  :  9     10501\n",
      "10     7291\n",
      "13     5355\n",
      "14     1723\n",
      "11     1382\n",
      "7      1175\n",
      "12     1067\n",
      "6       933\n",
      "4       646\n",
      "15      576\n",
      "5       514\n",
      "8       433\n",
      "16      413\n",
      "3       333\n",
      "2       168\n",
      "1        51\n",
      "Name: Edu_Num, dtype: int64\n",
      "Martial_Status  :   Married-civ-spouse       14976\n",
      " Never-married            10683\n",
      " Divorced                  4443\n",
      " Separated                 1025\n",
      " Widowed                    993\n",
      " Married-spouse-absent      418\n",
      " Married-AF-spouse           23\n",
      "Name: Martial_Status, dtype: int64\n",
      "Occupation  :   Prof-specialty       4140\n",
      " Craft-repair         4099\n",
      " Exec-managerial      4066\n",
      " Adm-clerical         3770\n",
      " Sales                3650\n",
      " Other-service        3295\n",
      " Machine-op-inspct    2002\n",
      " ?                    1843\n",
      " Transport-moving     1597\n",
      " Handlers-cleaners    1370\n",
      " Farming-fishing       994\n",
      " Tech-support          928\n",
      " Protective-serv       649\n",
      " Priv-house-serv       149\n",
      " Armed-Forces            9\n",
      "Name: Occupation, dtype: int64\n",
      "Relationship  :   Husband           13193\n",
      " Not-in-family      8305\n",
      " Own-child          5068\n",
      " Unmarried          3446\n",
      " Wife               1568\n",
      " Other-relative      981\n",
      "Name: Relationship, dtype: int64\n",
      "Race  :   White                 27816\n",
      " Black                  3124\n",
      " Asian-Pac-Islander     1039\n",
      " Amer-Indian-Eskimo      311\n",
      " Other                   271\n",
      "Name: Race, dtype: int64\n",
      "Sex  :   Male      21790\n",
      " Female    10771\n",
      "Name: Sex, dtype: int64\n",
      "Native_Country  :   United-States                 29170\n",
      " Mexico                          643\n",
      " ?                               583\n",
      " Philippines                     198\n",
      " Germany                         137\n",
      " Canada                          121\n",
      " Puerto-Rico                     114\n",
      " El-Salvador                     106\n",
      " India                           100\n",
      " Cuba                             95\n",
      " England                          90\n",
      " Jamaica                          81\n",
      " South                            80\n",
      " China                            75\n",
      " Italy                            73\n",
      " Dominican-Republic               70\n",
      " Vietnam                          67\n",
      " Guatemala                        64\n",
      " Japan                            62\n",
      " Poland                           60\n",
      " Columbia                         59\n",
      " Taiwan                           51\n",
      " Haiti                            44\n",
      " Iran                             43\n",
      " Portugal                         37\n",
      " Nicaragua                        34\n",
      " Peru                             31\n",
      " Greece                           29\n",
      " France                           29\n",
      " Ecuador                          28\n",
      " Ireland                          24\n",
      " Hong                             20\n",
      " Cambodia                         19\n",
      " Trinadad&Tobago                  19\n",
      " Thailand                         18\n",
      " Laos                             18\n",
      " Yugoslavia                       16\n",
      " Outlying-US(Guam-USVI-etc)       14\n",
      " Honduras                         13\n",
      " Hungary                          13\n",
      " Scotland                         12\n",
      " Holand-Netherlands                1\n",
      "Name: Native_Country, dtype: int64\n",
      "Income  :   <=50K    24720\n",
      " >50K      7841\n",
      "Name: Income, dtype: int64\n"
     ]
    }
   ],
   "source": [
    "#checking if we have an unusual thing in data values\n",
    "for cols in ['WorkClass','Education', 'Edu_Num','Martial_Status','Occupation',\n",
    "             'Relationship','Race','Sex','Native_Country','Income']:\n",
    "    print(cols ,\" : \",data[cols].value_counts())"
   ]
  },
  {
   "cell_type": "code",
   "execution_count": 13,
   "metadata": {},
   "outputs": [],
   "source": [
    "# WorkClass : 1836 values for '?'   it could be private work\n",
    "# Occupation : 1843 values for '?'  can give them 'Random Job' name as it doesnt matter\n",
    "# Native Country : 583 values for '?'  could be USA\n"
   ]
  },
  {
   "cell_type": "markdown",
   "metadata": {},
   "source": [
    "##  <span style = \"color:blue\"> Going to rescale Final_Weight by 10000 and replicate each row Final_Weight times </span>\n"
   ]
  },
  {
   "cell_type": "code",
   "execution_count": 14,
   "metadata": {},
   "outputs": [],
   "source": [
    "data['Final_Weight'] = data['Final_Weight']/10000"
   ]
  },
  {
   "cell_type": "code",
   "execution_count": 15,
   "metadata": {},
   "outputs": [
    {
     "data": {
      "text/html": [
       "<div>\n",
       "<style scoped>\n",
       "    .dataframe tbody tr th:only-of-type {\n",
       "        vertical-align: middle;\n",
       "    }\n",
       "\n",
       "    .dataframe tbody tr th {\n",
       "        vertical-align: top;\n",
       "    }\n",
       "\n",
       "    .dataframe thead th {\n",
       "        text-align: right;\n",
       "    }\n",
       "</style>\n",
       "<table border=\"1\" class=\"dataframe\">\n",
       "  <thead>\n",
       "    <tr style=\"text-align: right;\">\n",
       "      <th></th>\n",
       "      <th>Age</th>\n",
       "      <th>WorkClass</th>\n",
       "      <th>Final_Weight</th>\n",
       "      <th>Education</th>\n",
       "      <th>Edu_Num</th>\n",
       "      <th>Martial_Status</th>\n",
       "      <th>Occupation</th>\n",
       "      <th>Relationship</th>\n",
       "      <th>Race</th>\n",
       "      <th>Sex</th>\n",
       "      <th>Capital_Gain</th>\n",
       "      <th>Capital_Loss</th>\n",
       "      <th>Hours_per_Week</th>\n",
       "      <th>Native_Country</th>\n",
       "      <th>Income</th>\n",
       "    </tr>\n",
       "  </thead>\n",
       "  <tbody>\n",
       "    <tr>\n",
       "      <th>0</th>\n",
       "      <td>39</td>\n",
       "      <td>State-gov</td>\n",
       "      <td>7.7516</td>\n",
       "      <td>Bachelors</td>\n",
       "      <td>13</td>\n",
       "      <td>Never-married</td>\n",
       "      <td>Adm-clerical</td>\n",
       "      <td>Not-in-family</td>\n",
       "      <td>White</td>\n",
       "      <td>Male</td>\n",
       "      <td>2174</td>\n",
       "      <td>0</td>\n",
       "      <td>40</td>\n",
       "      <td>United-States</td>\n",
       "      <td>&lt;=50K</td>\n",
       "    </tr>\n",
       "    <tr>\n",
       "      <th>0</th>\n",
       "      <td>39</td>\n",
       "      <td>State-gov</td>\n",
       "      <td>7.7516</td>\n",
       "      <td>Bachelors</td>\n",
       "      <td>13</td>\n",
       "      <td>Never-married</td>\n",
       "      <td>Adm-clerical</td>\n",
       "      <td>Not-in-family</td>\n",
       "      <td>White</td>\n",
       "      <td>Male</td>\n",
       "      <td>2174</td>\n",
       "      <td>0</td>\n",
       "      <td>40</td>\n",
       "      <td>United-States</td>\n",
       "      <td>&lt;=50K</td>\n",
       "    </tr>\n",
       "    <tr>\n",
       "      <th>0</th>\n",
       "      <td>39</td>\n",
       "      <td>State-gov</td>\n",
       "      <td>7.7516</td>\n",
       "      <td>Bachelors</td>\n",
       "      <td>13</td>\n",
       "      <td>Never-married</td>\n",
       "      <td>Adm-clerical</td>\n",
       "      <td>Not-in-family</td>\n",
       "      <td>White</td>\n",
       "      <td>Male</td>\n",
       "      <td>2174</td>\n",
       "      <td>0</td>\n",
       "      <td>40</td>\n",
       "      <td>United-States</td>\n",
       "      <td>&lt;=50K</td>\n",
       "    </tr>\n",
       "    <tr>\n",
       "      <th>0</th>\n",
       "      <td>39</td>\n",
       "      <td>State-gov</td>\n",
       "      <td>7.7516</td>\n",
       "      <td>Bachelors</td>\n",
       "      <td>13</td>\n",
       "      <td>Never-married</td>\n",
       "      <td>Adm-clerical</td>\n",
       "      <td>Not-in-family</td>\n",
       "      <td>White</td>\n",
       "      <td>Male</td>\n",
       "      <td>2174</td>\n",
       "      <td>0</td>\n",
       "      <td>40</td>\n",
       "      <td>United-States</td>\n",
       "      <td>&lt;=50K</td>\n",
       "    </tr>\n",
       "    <tr>\n",
       "      <th>0</th>\n",
       "      <td>39</td>\n",
       "      <td>State-gov</td>\n",
       "      <td>7.7516</td>\n",
       "      <td>Bachelors</td>\n",
       "      <td>13</td>\n",
       "      <td>Never-married</td>\n",
       "      <td>Adm-clerical</td>\n",
       "      <td>Not-in-family</td>\n",
       "      <td>White</td>\n",
       "      <td>Male</td>\n",
       "      <td>2174</td>\n",
       "      <td>0</td>\n",
       "      <td>40</td>\n",
       "      <td>United-States</td>\n",
       "      <td>&lt;=50K</td>\n",
       "    </tr>\n",
       "  </tbody>\n",
       "</table>\n",
       "</div>"
      ],
      "text/plain": [
       "   Age   WorkClass  Final_Weight   Education  Edu_Num  Martial_Status  \\\n",
       "0   39   State-gov        7.7516   Bachelors       13   Never-married   \n",
       "0   39   State-gov        7.7516   Bachelors       13   Never-married   \n",
       "0   39   State-gov        7.7516   Bachelors       13   Never-married   \n",
       "0   39   State-gov        7.7516   Bachelors       13   Never-married   \n",
       "0   39   State-gov        7.7516   Bachelors       13   Never-married   \n",
       "\n",
       "      Occupation    Relationship    Race    Sex  Capital_Gain  Capital_Loss  \\\n",
       "0   Adm-clerical   Not-in-family   White   Male          2174             0   \n",
       "0   Adm-clerical   Not-in-family   White   Male          2174             0   \n",
       "0   Adm-clerical   Not-in-family   White   Male          2174             0   \n",
       "0   Adm-clerical   Not-in-family   White   Male          2174             0   \n",
       "0   Adm-clerical   Not-in-family   White   Male          2174             0   \n",
       "\n",
       "   Hours_per_Week  Native_Country  Income  \n",
       "0              40   United-States   <=50K  \n",
       "0              40   United-States   <=50K  \n",
       "0              40   United-States   <=50K  \n",
       "0              40   United-States   <=50K  \n",
       "0              40   United-States   <=50K  "
      ]
     },
     "execution_count": 15,
     "metadata": {},
     "output_type": "execute_result"
    }
   ],
   "source": [
    "#Replication of each row Final_Weight (rescaled 10k) times\n",
    "data = data.reindex(data.index.repeat(data['Final_Weight']))\n",
    "data.head()"
   ]
  },
  {
   "cell_type": "code",
   "execution_count": 16,
   "metadata": {},
   "outputs": [
    {
     "data": {
      "text/plain": [
       "601554"
      ]
     },
     "execution_count": 16,
     "metadata": {},
     "output_type": "execute_result"
    }
   ],
   "source": [
    "data.shape[0]"
   ]
  },
  {
   "cell_type": "code",
   "execution_count": 17,
   "metadata": {},
   "outputs": [
    {
     "data": {
      "text/html": [
       "<div>\n",
       "<style scoped>\n",
       "    .dataframe tbody tr th:only-of-type {\n",
       "        vertical-align: middle;\n",
       "    }\n",
       "\n",
       "    .dataframe tbody tr th {\n",
       "        vertical-align: top;\n",
       "    }\n",
       "\n",
       "    .dataframe thead th {\n",
       "        text-align: right;\n",
       "    }\n",
       "</style>\n",
       "<table border=\"1\" class=\"dataframe\">\n",
       "  <thead>\n",
       "    <tr style=\"text-align: right;\">\n",
       "      <th></th>\n",
       "      <th>Age</th>\n",
       "      <th>WorkClass</th>\n",
       "      <th>Education</th>\n",
       "      <th>Edu_Num</th>\n",
       "      <th>Martial_Status</th>\n",
       "      <th>Occupation</th>\n",
       "      <th>Relationship</th>\n",
       "      <th>Race</th>\n",
       "      <th>Sex</th>\n",
       "      <th>Capital_Gain</th>\n",
       "      <th>Capital_Loss</th>\n",
       "      <th>Hours_per_Week</th>\n",
       "      <th>Native_Country</th>\n",
       "      <th>Income</th>\n",
       "    </tr>\n",
       "  </thead>\n",
       "  <tbody>\n",
       "    <tr>\n",
       "      <th>0</th>\n",
       "      <td>39</td>\n",
       "      <td>State-gov</td>\n",
       "      <td>Bachelors</td>\n",
       "      <td>13</td>\n",
       "      <td>Never-married</td>\n",
       "      <td>Adm-clerical</td>\n",
       "      <td>Not-in-family</td>\n",
       "      <td>White</td>\n",
       "      <td>Male</td>\n",
       "      <td>2174</td>\n",
       "      <td>0</td>\n",
       "      <td>40</td>\n",
       "      <td>United-States</td>\n",
       "      <td>&lt;=50K</td>\n",
       "    </tr>\n",
       "    <tr>\n",
       "      <th>0</th>\n",
       "      <td>39</td>\n",
       "      <td>State-gov</td>\n",
       "      <td>Bachelors</td>\n",
       "      <td>13</td>\n",
       "      <td>Never-married</td>\n",
       "      <td>Adm-clerical</td>\n",
       "      <td>Not-in-family</td>\n",
       "      <td>White</td>\n",
       "      <td>Male</td>\n",
       "      <td>2174</td>\n",
       "      <td>0</td>\n",
       "      <td>40</td>\n",
       "      <td>United-States</td>\n",
       "      <td>&lt;=50K</td>\n",
       "    </tr>\n",
       "  </tbody>\n",
       "</table>\n",
       "</div>"
      ],
      "text/plain": [
       "   Age   WorkClass   Education  Edu_Num  Martial_Status     Occupation  \\\n",
       "0   39   State-gov   Bachelors       13   Never-married   Adm-clerical   \n",
       "0   39   State-gov   Bachelors       13   Never-married   Adm-clerical   \n",
       "\n",
       "     Relationship    Race    Sex  Capital_Gain  Capital_Loss  Hours_per_Week  \\\n",
       "0   Not-in-family   White   Male          2174             0              40   \n",
       "0   Not-in-family   White   Male          2174             0              40   \n",
       "\n",
       "   Native_Country  Income  \n",
       "0   United-States   <=50K  \n",
       "0   United-States   <=50K  "
      ]
     },
     "execution_count": 17,
     "metadata": {},
     "output_type": "execute_result"
    }
   ],
   "source": [
    "#removing final_weight, no more use of it\n",
    "data.drop('Final_Weight', axis = 1, inplace = True)\n",
    "data.head(2)"
   ]
  },
  {
   "cell_type": "markdown",
   "metadata": {},
   "source": [
    "#### Q4: For numeric variables, produce a table of statistics including missing values,\n",
    "####    min, max, median, mean, standard deviation, skewness and kurtosis.\n"
   ]
  },
  {
   "cell_type": "code",
   "execution_count": 18,
   "metadata": {},
   "outputs": [
    {
     "data": {
      "text/html": [
       "<div>\n",
       "<style scoped>\n",
       "    .dataframe tbody tr th:only-of-type {\n",
       "        vertical-align: middle;\n",
       "    }\n",
       "\n",
       "    .dataframe tbody tr th {\n",
       "        vertical-align: top;\n",
       "    }\n",
       "\n",
       "    .dataframe thead th {\n",
       "        text-align: right;\n",
       "    }\n",
       "</style>\n",
       "<table border=\"1\" class=\"dataframe\">\n",
       "  <thead>\n",
       "    <tr style=\"text-align: right;\">\n",
       "      <th></th>\n",
       "      <th>Age</th>\n",
       "      <th>Capital_Gain</th>\n",
       "      <th>Capital_Loss</th>\n",
       "      <th>Hours_per_Week</th>\n",
       "    </tr>\n",
       "  </thead>\n",
       "  <tbody>\n",
       "    <tr>\n",
       "      <th>min</th>\n",
       "      <td>17.000000</td>\n",
       "      <td>0.000000</td>\n",
       "      <td>0.000000</td>\n",
       "      <td>1.000000</td>\n",
       "    </tr>\n",
       "    <tr>\n",
       "      <th>max</th>\n",
       "      <td>90.000000</td>\n",
       "      <td>99999.000000</td>\n",
       "      <td>4356.000000</td>\n",
       "      <td>99.000000</td>\n",
       "    </tr>\n",
       "    <tr>\n",
       "      <th>mean</th>\n",
       "      <td>37.984527</td>\n",
       "      <td>1079.541183</td>\n",
       "      <td>84.945583</td>\n",
       "      <td>40.305065</td>\n",
       "    </tr>\n",
       "    <tr>\n",
       "      <th>median</th>\n",
       "      <td>36.000000</td>\n",
       "      <td>0.000000</td>\n",
       "      <td>0.000000</td>\n",
       "      <td>40.000000</td>\n",
       "    </tr>\n",
       "    <tr>\n",
       "      <th>std</th>\n",
       "      <td>13.464064</td>\n",
       "      <td>7436.344622</td>\n",
       "      <td>396.624057</td>\n",
       "      <td>12.087739</td>\n",
       "    </tr>\n",
       "    <tr>\n",
       "      <th>skew</th>\n",
       "      <td>0.595833</td>\n",
       "      <td>11.909010</td>\n",
       "      <td>4.644934</td>\n",
       "      <td>0.203340</td>\n",
       "    </tr>\n",
       "    <tr>\n",
       "      <th>kurtosis</th>\n",
       "      <td>-0.119916</td>\n",
       "      <td>153.196906</td>\n",
       "      <td>20.801014</td>\n",
       "      <td>2.985449</td>\n",
       "    </tr>\n",
       "  </tbody>\n",
       "</table>\n",
       "</div>"
      ],
      "text/plain": [
       "                Age  Capital_Gain  Capital_Loss  Hours_per_Week\n",
       "min       17.000000      0.000000      0.000000        1.000000\n",
       "max       90.000000  99999.000000   4356.000000       99.000000\n",
       "mean      37.984527   1079.541183     84.945583       40.305065\n",
       "median    36.000000      0.000000      0.000000       40.000000\n",
       "std       13.464064   7436.344622    396.624057       12.087739\n",
       "skew       0.595833     11.909010      4.644934        0.203340\n",
       "kurtosis  -0.119916    153.196906     20.801014        2.985449"
      ]
     },
     "execution_count": 18,
     "metadata": {},
     "output_type": "execute_result"
    }
   ],
   "source": [
    "#first make a list of numeric variables\n",
    "\n",
    "num_vars = ['Age', 'Capital_Gain','Capital_Loss','Hours_per_Week']\n",
    "\n",
    "#stats to perform\n",
    "stats = ['min', 'max', 'mean', 'median', 'std', 'skew', 'kurtosis']\n",
    "\n",
    "data[num_vars].agg(stats)"
   ]
  },
  {
   "cell_type": "markdown",
   "metadata": {},
   "source": [
    "<span  style =\"color:blue\">Capital_Gain & Capital_Loss</span> have kurtosis values > 3, which is a worring point\n",
    "Need to check Outlier"
   ]
  },
  {
   "cell_type": "markdown",
   "metadata": {},
   "source": [
    "#### Q5: How many outliers are present in each numeric variable? Show the tallies in a table. Set them to missing."
   ]
  },
  {
   "cell_type": "markdown",
   "metadata": {},
   "source": [
    "<span style=\"color:green\">Since we already checked through kurtosis that  Capital_Gain and Capital_Loss have values to that could be outlier.\n",
    "Lets check through our standard Interquartile range check and find if there are more variables that may have outliers\n",
    "and set them to missing.</span>\n"
   ]
  },
  {
   "cell_type": "code",
   "execution_count": 19,
   "metadata": {},
   "outputs": [
    {
     "data": {
      "text/plain": [
       "Age               0\n",
       "WorkClass         0\n",
       "Education         0\n",
       "Edu_Num           0\n",
       "Martial_Status    0\n",
       "Occupation        0\n",
       "Relationship      0\n",
       "Race              0\n",
       "Sex               0\n",
       "Capital_Gain      0\n",
       "Capital_Loss      0\n",
       "Hours_per_Week    0\n",
       "Native_Country    0\n",
       "Income            0\n",
       "dtype: int64"
      ]
     },
     "execution_count": 19,
     "metadata": {},
     "output_type": "execute_result"
    }
   ],
   "source": [
    "#check if data already has any missing value\n",
    "data.isna().sum()"
   ]
  },
  {
   "cell_type": "code",
   "execution_count": 20,
   "metadata": {},
   "outputs": [],
   "source": [
    "#number of outlier in each col:\n",
    "outlier_data = data.copy()"
   ]
  },
  {
   "cell_type": "code",
   "execution_count": 21,
   "metadata": {},
   "outputs": [
    {
     "data": {
      "text/plain": [
       "Age                2228\n",
       "WorkClass             0\n",
       "Education             0\n",
       "Edu_Num               0\n",
       "Martial_Status        0\n",
       "Occupation            0\n",
       "Relationship          0\n",
       "Race                  0\n",
       "Sex                   0\n",
       "Capital_Gain       3948\n",
       "Capital_Loss      26524\n",
       "Hours_per_Week     8645\n",
       "Native_Country        0\n",
       "Income                0\n",
       "dtype: int64"
      ]
     },
     "execution_count": 21,
     "metadata": {},
     "output_type": "execute_result"
    }
   ],
   "source": [
    "#finding outlier\n",
    "for col in num_vars :\n",
    "    outlier_data[col] = np.where(np.abs(outlier_data[col] - outlier_data[col].mean()) > (3 * outlier_data[col].std()), np.nan, outlier_data[col])\n",
    "#how many na's will tell us number of outliers\n",
    "outlier_data.isna().sum()"
   ]
  },
  {
   "cell_type": "markdown",
   "metadata": {},
   "source": [
    "<span style=\"color:green\">\n",
    "Outliers are in : Age, Final_Weight, Capital_Gain, Capital_Loss, Hours_per_Week <br>\n",
    "1. Age & Final_Weight : We dont have to remove outliers <br>\n",
    "2. Capital_Gain and Capital_Loss: We Will convert them into one variable and check its outliers and do interpolation <br>\n",
    "3. Hours_per_Week: we will do in the end\n",
    "</span>"
   ]
  },
  {
   "cell_type": "markdown",
   "metadata": {},
   "source": [
    "capital gain has unusually huge number.\n",
    "\n",
    "Lets check whats the total number of variable in it. and whats mean and std values.\n",
    "\n",
    "Best would be to impute these with nearest values using interpolation because if we replace with any other values\n",
    "\n",
    "such as mean or other values or even if delete,"
   ]
  },
  {
   "cell_type": "code",
   "execution_count": 22,
   "metadata": {},
   "outputs": [
    {
     "name": "stderr",
     "output_type": "stream",
     "text": [
      "/Users/hanyhamdani/opt/anaconda3/lib/python3.7/site-packages/seaborn/distributions.py:2619: FutureWarning: `distplot` is a deprecated function and will be removed in a future version. Please adapt your code to use either `displot` (a figure-level function with similar flexibility) or `histplot` (an axes-level function for histograms).\n",
      "  warnings.warn(msg, FutureWarning)\n"
     ]
    },
    {
     "data": {
      "text/plain": [
       "<matplotlib.axes._subplots.AxesSubplot at 0x7fb0f330b7d0>"
      ]
     },
     "execution_count": 22,
     "metadata": {},
     "output_type": "execute_result"
    },
    {
     "data": {
      "image/png": "[encoded data removed]",
      "text/plain": [
       "<Figure size 432x288 with 1 Axes>"
      ]
     },
     "metadata": {
      "needs_background": "light"
     },
     "output_type": "display_data"
    }
   ],
   "source": [
    "from scipy.stats import norm\n",
    "sns.distplot(data['Capital_Loss'], kde = False, fit = norm)  #, fit = norm, kde=False)"
   ]
  },
  {
   "cell_type": "code",
   "execution_count": 23,
   "metadata": {},
   "outputs": [
    {
     "name": "stderr",
     "output_type": "stream",
     "text": [
      "/Users/hanyhamdani/opt/anaconda3/lib/python3.7/site-packages/seaborn/distributions.py:2619: FutureWarning: `distplot` is a deprecated function and will be removed in a future version. Please adapt your code to use either `displot` (a figure-level function with similar flexibility) or `histplot` (an axes-level function for histograms).\n",
      "  warnings.warn(msg, FutureWarning)\n"
     ]
    },
    {
     "data": {
      "text/plain": [
       "<matplotlib.axes._subplots.AxesSubplot at 0x7fb0dc781a50>"
      ]
     },
     "execution_count": 23,
     "metadata": {},
     "output_type": "execute_result"
    },
    {
     "data": {
      "image/png": "[encoded data removed]",
      "text/plain": [
       "<Figure size 432x288 with 1 Axes>"
      ]
     },
     "metadata": {
      "needs_background": "light"
     },
     "output_type": "display_data"
    }
   ],
   "source": [
    "from scipy.stats import norm\n",
    "sns.distplot(data['Capital_Gain'], kde = False, fit = norm) "
   ]
  },
  {
   "cell_type": "markdown",
   "metadata": {},
   "source": [
    "Instead of taking Capital_Loss and Capital_Gain seperately, we can find:<br>\n",
    "$ NetCapital = CapitalGain - CapitalLoss $"
   ]
  },
  {
   "cell_type": "code",
   "execution_count": 24,
   "metadata": {},
   "outputs": [
    {
     "data": {
      "text/html": [
       "<div>\n",
       "<style scoped>\n",
       "    .dataframe tbody tr th:only-of-type {\n",
       "        vertical-align: middle;\n",
       "    }\n",
       "\n",
       "    .dataframe tbody tr th {\n",
       "        vertical-align: top;\n",
       "    }\n",
       "\n",
       "    .dataframe thead th {\n",
       "        text-align: right;\n",
       "    }\n",
       "</style>\n",
       "<table border=\"1\" class=\"dataframe\">\n",
       "  <thead>\n",
       "    <tr style=\"text-align: right;\">\n",
       "      <th></th>\n",
       "      <th>Age</th>\n",
       "      <th>WorkClass</th>\n",
       "      <th>Education</th>\n",
       "      <th>Edu_Num</th>\n",
       "      <th>Martial_Status</th>\n",
       "      <th>Occupation</th>\n",
       "      <th>Relationship</th>\n",
       "      <th>Race</th>\n",
       "      <th>Sex</th>\n",
       "      <th>Capital_Gain</th>\n",
       "      <th>Capital_Loss</th>\n",
       "      <th>Hours_per_Week</th>\n",
       "      <th>Native_Country</th>\n",
       "      <th>Income</th>\n",
       "      <th>NetCapital</th>\n",
       "    </tr>\n",
       "  </thead>\n",
       "  <tbody>\n",
       "    <tr>\n",
       "      <th>0</th>\n",
       "      <td>39</td>\n",
       "      <td>State-gov</td>\n",
       "      <td>Bachelors</td>\n",
       "      <td>13</td>\n",
       "      <td>Never-married</td>\n",
       "      <td>Adm-clerical</td>\n",
       "      <td>Not-in-family</td>\n",
       "      <td>White</td>\n",
       "      <td>Male</td>\n",
       "      <td>2174</td>\n",
       "      <td>0</td>\n",
       "      <td>40</td>\n",
       "      <td>United-States</td>\n",
       "      <td>&lt;=50K</td>\n",
       "      <td>2174</td>\n",
       "    </tr>\n",
       "    <tr>\n",
       "      <th>0</th>\n",
       "      <td>39</td>\n",
       "      <td>State-gov</td>\n",
       "      <td>Bachelors</td>\n",
       "      <td>13</td>\n",
       "      <td>Never-married</td>\n",
       "      <td>Adm-clerical</td>\n",
       "      <td>Not-in-family</td>\n",
       "      <td>White</td>\n",
       "      <td>Male</td>\n",
       "      <td>2174</td>\n",
       "      <td>0</td>\n",
       "      <td>40</td>\n",
       "      <td>United-States</td>\n",
       "      <td>&lt;=50K</td>\n",
       "      <td>2174</td>\n",
       "    </tr>\n",
       "  </tbody>\n",
       "</table>\n",
       "</div>"
      ],
      "text/plain": [
       "   Age   WorkClass   Education  Edu_Num  Martial_Status     Occupation  \\\n",
       "0   39   State-gov   Bachelors       13   Never-married   Adm-clerical   \n",
       "0   39   State-gov   Bachelors       13   Never-married   Adm-clerical   \n",
       "\n",
       "     Relationship    Race    Sex  Capital_Gain  Capital_Loss  Hours_per_Week  \\\n",
       "0   Not-in-family   White   Male          2174             0              40   \n",
       "0   Not-in-family   White   Male          2174             0              40   \n",
       "\n",
       "   Native_Country  Income  NetCapital  \n",
       "0   United-States   <=50K        2174  \n",
       "0   United-States   <=50K        2174  "
      ]
     },
     "execution_count": 24,
     "metadata": {},
     "output_type": "execute_result"
    }
   ],
   "source": [
    "data['NetCapital'] = data['Capital_Gain'] - data['Capital_Loss']\n",
    "data.head(2)"
   ]
  },
  {
   "cell_type": "code",
   "execution_count": 25,
   "metadata": {},
   "outputs": [
    {
     "data": {
      "text/html": [
       "<div>\n",
       "<style scoped>\n",
       "    .dataframe tbody tr th:only-of-type {\n",
       "        vertical-align: middle;\n",
       "    }\n",
       "\n",
       "    .dataframe tbody tr th {\n",
       "        vertical-align: top;\n",
       "    }\n",
       "\n",
       "    .dataframe thead th {\n",
       "        text-align: right;\n",
       "    }\n",
       "</style>\n",
       "<table border=\"1\" class=\"dataframe\">\n",
       "  <thead>\n",
       "    <tr style=\"text-align: right;\">\n",
       "      <th></th>\n",
       "      <th>Age</th>\n",
       "      <th>Capital_Gain</th>\n",
       "      <th>Capital_Loss</th>\n",
       "      <th>Hours_per_Week</th>\n",
       "      <th>NetCapital</th>\n",
       "    </tr>\n",
       "  </thead>\n",
       "  <tbody>\n",
       "    <tr>\n",
       "      <th>min</th>\n",
       "      <td>17.000000</td>\n",
       "      <td>0.000000</td>\n",
       "      <td>0.000000</td>\n",
       "      <td>1.000000</td>\n",
       "      <td>-4356.000000</td>\n",
       "    </tr>\n",
       "    <tr>\n",
       "      <th>max</th>\n",
       "      <td>90.000000</td>\n",
       "      <td>99999.000000</td>\n",
       "      <td>4356.000000</td>\n",
       "      <td>99.000000</td>\n",
       "      <td>99999.000000</td>\n",
       "    </tr>\n",
       "    <tr>\n",
       "      <th>mean</th>\n",
       "      <td>37.984527</td>\n",
       "      <td>1079.541183</td>\n",
       "      <td>84.945583</td>\n",
       "      <td>40.305065</td>\n",
       "      <td>994.595601</td>\n",
       "    </tr>\n",
       "    <tr>\n",
       "      <th>median</th>\n",
       "      <td>36.000000</td>\n",
       "      <td>0.000000</td>\n",
       "      <td>0.000000</td>\n",
       "      <td>40.000000</td>\n",
       "      <td>0.000000</td>\n",
       "    </tr>\n",
       "    <tr>\n",
       "      <th>std</th>\n",
       "      <td>13.464064</td>\n",
       "      <td>7436.344622</td>\n",
       "      <td>396.624057</td>\n",
       "      <td>12.087739</td>\n",
       "      <td>7459.218243</td>\n",
       "    </tr>\n",
       "    <tr>\n",
       "      <th>skew</th>\n",
       "      <td>0.595833</td>\n",
       "      <td>11.909010</td>\n",
       "      <td>4.644934</td>\n",
       "      <td>0.203340</td>\n",
       "      <td>11.831159</td>\n",
       "    </tr>\n",
       "    <tr>\n",
       "      <th>kurtosis</th>\n",
       "      <td>-0.119916</td>\n",
       "      <td>153.196906</td>\n",
       "      <td>20.801014</td>\n",
       "      <td>2.985449</td>\n",
       "      <td>151.829148</td>\n",
       "    </tr>\n",
       "  </tbody>\n",
       "</table>\n",
       "</div>"
      ],
      "text/plain": [
       "                Age  Capital_Gain  Capital_Loss  Hours_per_Week    NetCapital\n",
       "min       17.000000      0.000000      0.000000        1.000000  -4356.000000\n",
       "max       90.000000  99999.000000   4356.000000       99.000000  99999.000000\n",
       "mean      37.984527   1079.541183     84.945583       40.305065    994.595601\n",
       "median    36.000000      0.000000      0.000000       40.000000      0.000000\n",
       "std       13.464064   7436.344622    396.624057       12.087739   7459.218243\n",
       "skew       0.595833     11.909010      4.644934        0.203340     11.831159\n",
       "kurtosis  -0.119916    153.196906     20.801014        2.985449    151.829148"
      ]
     },
     "execution_count": 25,
     "metadata": {},
     "output_type": "execute_result"
    }
   ],
   "source": [
    "#check outliers now in capital_net\n",
    "num_vars.append('NetCapital')\n",
    "\n",
    "data[num_vars].agg(stats)"
   ]
  },
  {
   "cell_type": "code",
   "execution_count": 26,
   "metadata": {},
   "outputs": [
    {
     "name": "stderr",
     "output_type": "stream",
     "text": [
      "/Users/hanyhamdani/opt/anaconda3/lib/python3.7/site-packages/seaborn/distributions.py:2619: FutureWarning: `distplot` is a deprecated function and will be removed in a future version. Please adapt your code to use either `displot` (a figure-level function with similar flexibility) or `histplot` (an axes-level function for histograms).\n",
      "  warnings.warn(msg, FutureWarning)\n"
     ]
    },
    {
     "data": {
      "text/plain": [
       "<matplotlib.axes._subplots.AxesSubplot at 0x7fb0dbe53990>"
      ]
     },
     "execution_count": 26,
     "metadata": {},
     "output_type": "execute_result"
    },
    {
     "data": {
      "image/png": "[encoded data removed]",
      "text/plain": [
       "<Figure size 432x288 with 1 Axes>"
      ]
     },
     "metadata": {
      "needs_background": "light"
     },
     "output_type": "display_data"
    }
   ],
   "source": [
    "#check NetCapital's distribution\n",
    "sns.distplot(data['NetCapital'], kde = False, fit = norm)   #majority lie in "
   ]
  },
  {
   "cell_type": "code",
   "execution_count": 27,
   "metadata": {},
   "outputs": [
    {
     "data": {
      "text/plain": [
       "count    601554.000000\n",
       "mean         40.305065\n",
       "std          12.087739\n",
       "min           1.000000\n",
       "25%          40.000000\n",
       "50%          40.000000\n",
       "75%          45.000000\n",
       "max          99.000000\n",
       "Name: Hours_per_Week, dtype: float64"
      ]
     },
     "execution_count": 27,
     "metadata": {},
     "output_type": "execute_result"
    }
   ],
   "source": [
    "#Hours_per_Week\n",
    "data.Hours_per_Week.describe()"
   ]
  },
  {
   "cell_type": "code",
   "execution_count": 28,
   "metadata": {},
   "outputs": [
    {
     "data": {
      "text/plain": [
       "count    601554.000000\n",
       "mean         37.984527\n",
       "std          13.464064\n",
       "min          17.000000\n",
       "25%          27.000000\n",
       "50%          36.000000\n",
       "75%          47.000000\n",
       "max          90.000000\n",
       "Name: Age, dtype: float64"
      ]
     },
     "execution_count": 28,
     "metadata": {},
     "output_type": "execute_result"
    }
   ],
   "source": [
    "#age column outlier check\n",
    "data['Age'].describe()\n",
    "#no need to treat this thing"
   ]
  },
  {
   "cell_type": "code",
   "execution_count": 29,
   "metadata": {},
   "outputs": [
    {
     "data": {
      "text/html": [
       "<div>\n",
       "<style scoped>\n",
       "    .dataframe tbody tr th:only-of-type {\n",
       "        vertical-align: middle;\n",
       "    }\n",
       "\n",
       "    .dataframe tbody tr th {\n",
       "        vertical-align: top;\n",
       "    }\n",
       "\n",
       "    .dataframe thead th {\n",
       "        text-align: right;\n",
       "    }\n",
       "</style>\n",
       "<table border=\"1\" class=\"dataframe\">\n",
       "  <thead>\n",
       "    <tr style=\"text-align: right;\">\n",
       "      <th></th>\n",
       "      <th>Age</th>\n",
       "      <th>WorkClass</th>\n",
       "      <th>Education</th>\n",
       "      <th>Edu_Num</th>\n",
       "      <th>Martial_Status</th>\n",
       "      <th>Occupation</th>\n",
       "      <th>Relationship</th>\n",
       "      <th>Race</th>\n",
       "      <th>Sex</th>\n",
       "      <th>Capital_Gain</th>\n",
       "      <th>Capital_Loss</th>\n",
       "      <th>Hours_per_Week</th>\n",
       "      <th>Native_Country</th>\n",
       "      <th>Income</th>\n",
       "      <th>NetCapital</th>\n",
       "    </tr>\n",
       "  </thead>\n",
       "  <tbody>\n",
       "  </tbody>\n",
       "</table>\n",
       "</div>"
      ],
      "text/plain": [
       "Empty DataFrame\n",
       "Columns: [Age, WorkClass, Education, Edu_Num, Martial_Status, Occupation, Relationship, Race, Sex, Capital_Gain, Capital_Loss, Hours_per_Week, Native_Country, Income, NetCapital]\n",
       "Index: []"
      ]
     },
     "execution_count": 29,
     "metadata": {},
     "output_type": "execute_result"
    }
   ],
   "source": [
    "#Capital_Gain & Capital_Loss\n",
    "same_Values = data[data['Capital_Loss'] == data['Capital_Gain']] \n",
    "same_Values[same_Values['Capital_Loss'] > 0]  #same results for Capital_Gain"
   ]
  },
  {
   "cell_type": "markdown",
   "metadata": {},
   "source": [
    "The two columns: Capital_Gain and Capital_Loss have:\n",
    "        1. both 0 values\n",
    "        2. One column has non zero value but other is zero for same record\n",
    "        \n",
    "We will turn this into 1 and 0 instead of imputing any other value and then no more outliers\n",
    "which means;\n",
    "<br>\n",
    "$NetCapital = 0$ , there is Capital_Loss\n",
    "    <br>\n",
    "$NetCapital = 1$ , there is Capital_Gain\n"
   ]
  },
  {
   "cell_type": "code",
   "execution_count": 30,
   "metadata": {},
   "outputs": [
    {
     "data": {
      "text/plain": [
       "0    524520\n",
       "1     77034\n",
       "Name: NetCapital, dtype: int64"
      ]
     },
     "execution_count": 30,
     "metadata": {},
     "output_type": "execute_result"
    }
   ],
   "source": [
    "data['NetCapital'] = data['NetCapital'].astype('bool') * 1\n",
    "data['NetCapital'].value_counts()"
   ]
  },
  {
   "cell_type": "code",
   "execution_count": 31,
   "metadata": {},
   "outputs": [
    {
     "data": {
      "text/html": [
       "<div>\n",
       "<style scoped>\n",
       "    .dataframe tbody tr th:only-of-type {\n",
       "        vertical-align: middle;\n",
       "    }\n",
       "\n",
       "    .dataframe tbody tr th {\n",
       "        vertical-align: top;\n",
       "    }\n",
       "\n",
       "    .dataframe thead th {\n",
       "        text-align: right;\n",
       "    }\n",
       "</style>\n",
       "<table border=\"1\" class=\"dataframe\">\n",
       "  <thead>\n",
       "    <tr style=\"text-align: right;\">\n",
       "      <th></th>\n",
       "      <th>Age</th>\n",
       "      <th>WorkClass</th>\n",
       "      <th>Education</th>\n",
       "      <th>Edu_Num</th>\n",
       "      <th>Martial_Status</th>\n",
       "      <th>Occupation</th>\n",
       "      <th>Relationship</th>\n",
       "      <th>Race</th>\n",
       "      <th>Sex</th>\n",
       "      <th>Hours_per_Week</th>\n",
       "      <th>Native_Country</th>\n",
       "      <th>Income</th>\n",
       "      <th>NetCapital</th>\n",
       "    </tr>\n",
       "  </thead>\n",
       "  <tbody>\n",
       "    <tr>\n",
       "      <th>0</th>\n",
       "      <td>39</td>\n",
       "      <td>State-gov</td>\n",
       "      <td>Bachelors</td>\n",
       "      <td>13</td>\n",
       "      <td>Never-married</td>\n",
       "      <td>Adm-clerical</td>\n",
       "      <td>Not-in-family</td>\n",
       "      <td>White</td>\n",
       "      <td>Male</td>\n",
       "      <td>40</td>\n",
       "      <td>United-States</td>\n",
       "      <td>&lt;=50K</td>\n",
       "      <td>1</td>\n",
       "    </tr>\n",
       "    <tr>\n",
       "      <th>0</th>\n",
       "      <td>39</td>\n",
       "      <td>State-gov</td>\n",
       "      <td>Bachelors</td>\n",
       "      <td>13</td>\n",
       "      <td>Never-married</td>\n",
       "      <td>Adm-clerical</td>\n",
       "      <td>Not-in-family</td>\n",
       "      <td>White</td>\n",
       "      <td>Male</td>\n",
       "      <td>40</td>\n",
       "      <td>United-States</td>\n",
       "      <td>&lt;=50K</td>\n",
       "      <td>1</td>\n",
       "    </tr>\n",
       "  </tbody>\n",
       "</table>\n",
       "</div>"
      ],
      "text/plain": [
       "   Age   WorkClass   Education  Edu_Num  Martial_Status     Occupation  \\\n",
       "0   39   State-gov   Bachelors       13   Never-married   Adm-clerical   \n",
       "0   39   State-gov   Bachelors       13   Never-married   Adm-clerical   \n",
       "\n",
       "     Relationship    Race    Sex  Hours_per_Week  Native_Country  Income  \\\n",
       "0   Not-in-family   White   Male              40   United-States   <=50K   \n",
       "0   Not-in-family   White   Male              40   United-States   <=50K   \n",
       "\n",
       "   NetCapital  \n",
       "0           1  \n",
       "0           1  "
      ]
     },
     "execution_count": 31,
     "metadata": {},
     "output_type": "execute_result"
    }
   ],
   "source": [
    "#removing Capital_Gain and Capital_Loss Column\n",
    "data.drop(['Capital_Gain', 'Capital_Loss'], axis = 1, inplace = True)\n",
    "data.head(2)"
   ]
  },
  {
   "cell_type": "code",
   "execution_count": 32,
   "metadata": {},
   "outputs": [],
   "source": [
    "#Additionally, we already have Education and we dont need redundancy in Edu_Num form \n",
    "#removing it also\n",
    "\n",
    "data.drop('Edu_Num', axis = 1 , inplace = True)"
   ]
  },
  {
   "cell_type": "markdown",
   "metadata": {},
   "source": [
    "#### So the only column we need to work on is Hours_per_Week"
   ]
  },
  {
   "cell_type": "code",
   "execution_count": 33,
   "metadata": {},
   "outputs": [
    {
     "name": "stderr",
     "output_type": "stream",
     "text": [
      "/Users/hanyhamdani/opt/anaconda3/lib/python3.7/site-packages/seaborn/distributions.py:2619: FutureWarning: `distplot` is a deprecated function and will be removed in a future version. Please adapt your code to use either `displot` (a figure-level function with similar flexibility) or `histplot` (an axes-level function for histograms).\n",
      "  warnings.warn(msg, FutureWarning)\n"
     ]
    },
    {
     "data": {
      "text/plain": [
       "<matplotlib.axes._subplots.AxesSubplot at 0x7fb0dbdac8d0>"
      ]
     },
     "execution_count": 33,
     "metadata": {},
     "output_type": "execute_result"
    },
    {
     "data": {
      "image/png": "[encoded data removed]",
      "text/plain": [
       "<Figure size 432x288 with 1 Axes>"
      ]
     },
     "metadata": {
      "needs_background": "light"
     },
     "output_type": "display_data"
    }
   ],
   "source": [
    "#checking distribution that will be needed for imputation of missing values\n",
    "sns.distplot(data.Hours_per_Week, kde = False, fit = norm)"
   ]
  },
  {
   "cell_type": "code",
   "execution_count": 34,
   "metadata": {},
   "outputs": [
    {
     "data": {
      "text/plain": [
       "<matplotlib.axes._subplots.AxesSubplot at 0x7fb0cc308150>"
      ]
     },
     "execution_count": 34,
     "metadata": {},
     "output_type": "execute_result"
    },
    {
     "data": {
      "image/png": "[encoded data removed]",
      "text/plain": [
       "<Figure size 432x288 with 1 Axes>"
      ]
     },
     "metadata": {
      "needs_background": "light"
     },
     "output_type": "display_data"
    }
   ],
   "source": [
    "sns.boxplot(y = data.Hours_per_Week)  # "
   ]
  },
  {
   "cell_type": "code",
   "execution_count": 35,
   "metadata": {},
   "outputs": [
    {
     "data": {
      "text/plain": [
       "40.30506488195574"
      ]
     },
     "execution_count": 35,
     "metadata": {},
     "output_type": "execute_result"
    }
   ],
   "source": [
    "data.Hours_per_Week.mean()"
   ]
  },
  {
   "cell_type": "markdown",
   "metadata": {},
   "source": [
    "#### Setting outliers in this column to missing values"
   ]
  },
  {
   "cell_type": "code",
   "execution_count": 36,
   "metadata": {},
   "outputs": [
    {
     "name": "stdout",
     "output_type": "stream",
     "text": [
      "Number of Outliers in Hours_per_Week : 8645\n"
     ]
    }
   ],
   "source": [
    "data['Hours_per_Week'] = np.where(np.abs(data.Hours_per_Week - data['Hours_per_Week'].mean()) > (3 * data['Hours_per_Week'].std()), np.nan, data['Hours_per_Week'])\n",
    "\n",
    "print(\"Number of Outliers in Hours_per_Week :\", data.Hours_per_Week.isna().sum())\n",
    "      "
   ]
  },
  {
   "cell_type": "markdown",
   "metadata": {},
   "source": [
    "#### Q6: Count the unique values of each categorical variable, including missing values. Are there any unusual values in any of the categorical variables?"
   ]
  },
  {
   "cell_type": "code",
   "execution_count": 37,
   "metadata": {},
   "outputs": [
    {
     "name": "stdout",
     "output_type": "stream",
     "text": [
      "\u001b[1mUnique Values in: WorkClass\u001b[0m \n",
      "\n",
      " Private             426048\n",
      " Self-emp-not-inc     43355\n",
      " Local-gov            38426\n",
      " ?                    33695\n",
      " State-gov            23256\n",
      " Self-emp-inc         19085\n",
      " Federal-gov          17297\n",
      " Without-pay            238\n",
      " Never-worked           154\n",
      "Name: WorkClass, dtype: int64\n",
      "\n",
      "\n",
      "\n",
      "***********************************\n",
      "\n",
      "\n",
      "\u001b[1mUnique Values in: Education\u001b[0m \n",
      "\n",
      " HS-grad         193717\n",
      " Some-college    133929\n",
      " Bachelors        98016\n",
      " Masters          30134\n",
      " Assoc-voc        24441\n",
      " 11th             22313\n",
      " Assoc-acdm       20112\n",
      " 10th             17915\n",
      " 7th-8th          11831\n",
      " Prof-school      10403\n",
      " 9th              10146\n",
      " 12th              8404\n",
      " 5th-6th           7573\n",
      " Doctorate         7503\n",
      " 1st-4th           3939\n",
      " Preschool         1178\n",
      "Name: Education, dtype: int64\n",
      "\n",
      "\n",
      "\n",
      "***********************************\n",
      "\n",
      "\n",
      "\u001b[1mUnique Values in: Martial_Status\u001b[0m \n",
      "\n",
      " Married-civ-spouse       272124\n",
      " Never-married            203392\n",
      " Divorced                  80312\n",
      " Separated                 20652\n",
      " Widowed                   16793\n",
      " Married-spouse-absent      7863\n",
      " Married-AF-spouse           418\n",
      "Name: Martial_Status, dtype: int64\n",
      "\n",
      "\n",
      "\n",
      "***********************************\n",
      "\n",
      "\n",
      "\u001b[1mUnique Values in: Occupation\u001b[0m \n",
      "\n",
      " Craft-repair         76689\n",
      " Prof-specialty       74633\n",
      " Exec-managerial      72954\n",
      " Adm-clerical         70507\n",
      " Sales                67836\n",
      " Other-service        60498\n",
      " Machine-op-inspct    38035\n",
      " ?                    33849\n",
      " Transport-moving     29586\n",
      " Handlers-cleaners    27310\n",
      " Tech-support         17350\n",
      " Farming-fishing      16421\n",
      " Protective-serv      12776\n",
      " Priv-house-serv       2920\n",
      " Armed-Forces           190\n",
      "Name: Occupation, dtype: int64\n",
      "\n",
      "\n",
      "\n",
      "***********************************\n",
      "\n",
      "\n",
      "\u001b[1mUnique Values in: Relationship\u001b[0m \n",
      "\n",
      " Husband           240154\n",
      " Not-in-family     154585\n",
      " Own-child          95385\n",
      " Unmarried          64103\n",
      " Wife               27701\n",
      " Other-relative     19626\n",
      "Name: Relationship, dtype: int64\n",
      "\n",
      "\n",
      "\n",
      "***********************************\n",
      "\n",
      "\n",
      "\u001b[1mUnique Values in: Race\u001b[0m \n",
      "\n",
      " White                 506980\n",
      " Black                  69649\n",
      " Asian-Pac-Islander     16121\n",
      " Other                   5202\n",
      " Amer-Indian-Eskimo      3602\n",
      "Name: Race, dtype: int64\n",
      "\n",
      "\n",
      "\n",
      "***********************************\n",
      "\n",
      "\n",
      "\u001b[1mUnique Values in: Sex\u001b[0m \n",
      "\n",
      " Male      406921\n",
      " Female    194633\n",
      "Name: Sex, dtype: int64\n",
      "\n",
      "\n",
      "\n",
      "***********************************\n",
      "\n",
      "\n",
      "\u001b[1mUnique Values in: Native_Country\u001b[0m \n",
      "\n",
      " United-States                 531003\n",
      " Mexico                         18290\n",
      " ?                              10966\n",
      " Philippines                     3197\n",
      " El-Salvador                     2644\n",
      " Germany                         2528\n",
      " Cuba                            2293\n",
      " Puerto-Rico                     2246\n",
      " Canada                          2112\n",
      " Jamaica                         1678\n",
      " Guatemala                       1664\n",
      " India                           1636\n",
      " England                         1595\n",
      " Dominican-Republic              1311\n",
      " China                           1311\n",
      " Columbia                        1300\n",
      " Italy                           1292\n",
      " South                           1272\n",
      " Japan                           1121\n",
      " Poland                          1076\n",
      " Vietnam                         1061\n",
      " Nicaragua                        984\n",
      " Taiwan                           926\n",
      " Haiti                            897\n",
      " Peru                             836\n",
      " Iran                             763\n",
      " France                           542\n",
      " Portugal                         531\n",
      " Ecuador                          505\n",
      " Hong                             433\n",
      " Greece                           402\n",
      " Trinadad&Tobago                  395\n",
      " Laos                             370\n",
      " Cambodia                         359\n",
      " Yugoslavia                       339\n",
      " Honduras                         326\n",
      " Thailand                         323\n",
      " Ireland                          320\n",
      " Outlying-US(Guam-USVI-etc)       279\n",
      " Hungary                          228\n",
      " Scotland                         198\n",
      " Holand-Netherlands                 2\n",
      "Name: Native_Country, dtype: int64\n",
      "\n",
      "\n",
      "\n",
      "***********************************\n",
      "\n",
      "\n",
      "\u001b[1mUnique Values in: Income\u001b[0m \n",
      "\n",
      " <=50K    458086\n",
      " >50K     143468\n",
      "Name: Income, dtype: int64\n",
      "\n",
      "\n",
      "\n",
      "***********************************\n",
      "\n",
      "\n"
     ]
    }
   ],
   "source": [
    "#Although we have converted Capital_Gain and Capital Loss into Categorical Var: Net_Capital \n",
    "#whose unique values are only 1 and 0, we will not be using it here\n",
    "cat_vars = ['WorkClass', 'Education', 'Martial_Status', 'Occupation',\n",
    "            'Relationship', 'Race', 'Sex', 'Native_Country','Income']\n",
    "\n",
    "for cat in cat_vars:\n",
    "    print('\\033[1m' +\"Unique Values in:\",cat +'\\033[0m',\"\\n\")\n",
    "    print(data[cat].value_counts())\n",
    "    print(\"\\n\\n\")\n",
    "    print(\"***********************************\")   #just pretty formatting\n",
    "    print(\"\\n\")"
   ]
  },
  {
   "cell_type": "markdown",
   "metadata": {},
   "source": [
    "Ans: <span style=\"color:green\"> WorkClass, Occupation, Native Country  columns have each one subcategory that has \"?\" as its value.</span> <br>\n",
    "<span style=\"color:green\"> Since its a categorical value and we will one hot ecnode them later, this \"?\" doesnt matter much. We will use \"Unkown_\" prefix here for them</span>"
   ]
  },
  {
   "cell_type": "markdown",
   "metadata": {},
   "source": [
    "#### Q7: Impute the missing values. Be sure to explain how you did that in your presentation."
   ]
  },
  {
   "cell_type": "markdown",
   "metadata": {},
   "source": [
    "Easiest way is to replace it with mean, but it can skew data as there is high number of outliers in data. \n",
    "for this reason checking up distribution of data in all these columns and see what best thing could be done\n",
    "\n",
    "We will put the largest values within allowable range and every outlier will be replaced by that value"
   ]
  },
  {
   "cell_type": "code",
   "execution_count": 38,
   "metadata": {},
   "outputs": [
    {
     "name": "stdout",
     "output_type": "stream",
     "text": [
      "14.75 %  of total data, so we cant drop them\n"
     ]
    }
   ],
   "source": [
    "#Hours_per_Week\n",
    "print(round((88716/data.shape[0] * 100),2), \"%  of total data, so we cant drop them\")"
   ]
  },
  {
   "cell_type": "code",
   "execution_count": 39,
   "metadata": {},
   "outputs": [
    {
     "data": {
      "text/plain": [
       "Age               0\n",
       "WorkClass         0\n",
       "Education         0\n",
       "Martial_Status    0\n",
       "Occupation        0\n",
       "Relationship      0\n",
       "Race              0\n",
       "Sex               0\n",
       "Hours_per_Week    0\n",
       "Native_Country    0\n",
       "Income            0\n",
       "NetCapital        0\n",
       "dtype: int64"
      ]
     },
     "execution_count": 39,
     "metadata": {},
     "output_type": "execute_result"
    }
   ],
   "source": [
    "data.Hours_per_Week = data.Hours_per_Week.interpolate(method='nearest', limit_direction = 'both')\n",
    "data.isna().sum()"
   ]
  },
  {
   "cell_type": "markdown",
   "metadata": {},
   "source": [
    "<span style = \"color:green\">We used interpolation 'nearest' to fill in the values. \n",
    "If we had replaced null values with mean, it would have replaced our high values with mean and thus changed the income results. Majority of population that works around mean number of hours (40), has income less than or equal to 50. Those who work more than 60 hours/week, have majority that has income > 50k. Replacing with mean value may result in us classifying high earners as less than 50k earners.\n",
    "We want our data to be considerate of extreme/border values so that we have the true representative of data. \n",
    "Nearest method will replace it with nearest neighbour.</span>"
   ]
  },
  {
   "cell_type": "markdown",
   "metadata": {},
   "source": [
    "#### Q8: Produce a histogram or boxplot for each of the numeric variables.\n",
    "\n"
   ]
  },
  {
   "cell_type": "code",
   "execution_count": 40,
   "metadata": {},
   "outputs": [
    {
     "name": "stdout",
     "output_type": "stream",
     "text": [
      "<class 'pandas.core.frame.DataFrame'>\n",
      "Int64Index: 601554 entries, 0 to 32560\n",
      "Data columns (total 12 columns):\n",
      "Age               601554 non-null int64\n",
      "WorkClass         601554 non-null object\n",
      "Education         601554 non-null object\n",
      "Martial_Status    601554 non-null object\n",
      "Occupation        601554 non-null object\n",
      "Relationship      601554 non-null object\n",
      "Race              601554 non-null object\n",
      "Sex               601554 non-null object\n",
      "Hours_per_Week    601554 non-null float64\n",
      "Native_Country    601554 non-null object\n",
      "Income            601554 non-null object\n",
      "NetCapital        601554 non-null int64\n",
      "dtypes: float64(1), int64(2), object(9)\n",
      "memory usage: 59.7+ MB\n"
     ]
    }
   ],
   "source": [
    "data.info()"
   ]
  },
  {
   "cell_type": "code",
   "execution_count": 41,
   "metadata": {},
   "outputs": [
    {
     "data": {
      "text/plain": [
       "<matplotlib.axes._subplots.AxesSubplot at 0x7fb0dbdbe210>"
      ]
     },
     "execution_count": 41,
     "metadata": {},
     "output_type": "execute_result"
    },
    {
     "data": {
      "image/png": "[encoded data removed]",
      "text/plain": [
       "<Figure size 432x288 with 1 Axes>"
      ]
     },
     "metadata": {
      "needs_background": "light"
     },
     "output_type": "display_data"
    }
   ],
   "source": [
    "#'Age', 'Hours_per_Week', 'NetCapital'\n",
    "\n",
    "sns.boxplot(y = data.Age)"
   ]
  },
  {
   "cell_type": "code",
   "execution_count": 42,
   "metadata": {},
   "outputs": [
    {
     "data": {
      "text/plain": [
       "<matplotlib.axes._subplots.AxesSubplot at 0x7fb0cc776cd0>"
      ]
     },
     "execution_count": 42,
     "metadata": {},
     "output_type": "execute_result"
    },
    {
     "data": {
      "image/png": "[encoded data removed]",
      "text/plain": [
       "<Figure size 432x288 with 1 Axes>"
      ]
     },
     "metadata": {
      "needs_background": "light"
     },
     "output_type": "display_data"
    }
   ],
   "source": [
    "sns.boxplot(y = data.Hours_per_Week)"
   ]
  },
  {
   "cell_type": "code",
   "execution_count": 43,
   "metadata": {},
   "outputs": [
    {
     "data": {
      "text/plain": [
       "<matplotlib.axes._subplots.AxesSubplot at 0x7fb0d094b2d0>"
      ]
     },
     "execution_count": 43,
     "metadata": {},
     "output_type": "execute_result"
    },
    {
     "data": {
      "image/png": "[encoded data removed]",
      "text/plain": [
       "<Figure size 432x288 with 1 Axes>"
      ]
     },
     "metadata": {
      "needs_background": "light"
     },
     "output_type": "display_data"
    }
   ],
   "source": [
    "sns.countplot(x = data.NetCapital)"
   ]
  },
  {
   "cell_type": "markdown",
   "metadata": {},
   "source": [
    "#### Q9: Produce a bar chart for each of the categorical variables showing the counts for each unique value."
   ]
  },
  {
   "cell_type": "markdown",
   "metadata": {},
   "source": [
    "#### Categorical Variables now: \n",
    " <span style=\"color:green\">'WorkClass', 'Education', 'Martial_Status', 'Occupation', 'Relationship', 'Race', 'Sex', 'Native_Country', 'Income', 'NetCapital' </span>"
   ]
  },
  {
   "cell_type": "code",
   "execution_count": 44,
   "metadata": {},
   "outputs": [
    {
     "data": {
      "image/png": "[encoded data removed]",
      "text/plain": [
       "<Figure size 842.4x595.44 with 1 Axes>"
      ]
     },
     "metadata": {},
     "output_type": "display_data"
    }
   ],
   "source": [
    "sns.set(rc={'figure.figsize':(11.7,8.27)})\n",
    "#WorkClass\n",
    "ax = sns.countplot(x=\"WorkClass\", data=data)"
   ]
  },
  {
   "cell_type": "code",
   "execution_count": 45,
   "metadata": {},
   "outputs": [
    {
     "data": {
      "image/png": "[encoded data removed]",
      "text/plain": [
       "<Figure size 842.4x595.44 with 1 Axes>"
      ]
     },
     "metadata": {},
     "output_type": "display_data"
    }
   ],
   "source": [
    "sns.set(rc={'figure.figsize':(11.7,8.27)})\n",
    "ax = sns.countplot(y=\"Education\", data=data)"
   ]
  },
  {
   "cell_type": "code",
   "execution_count": 46,
   "metadata": {},
   "outputs": [
    {
     "data": {
      "text/plain": [
       "<matplotlib.axes._subplots.AxesSubplot at 0x7fb0d0fe9310>"
      ]
     },
     "execution_count": 46,
     "metadata": {},
     "output_type": "execute_result"
    },
    {
     "data": {
      "image/png": "[encoded data removed]",
      "text/plain": [
       "<Figure size 842.4x595.44 with 1 Axes>"
      ]
     },
     "metadata": {},
     "output_type": "display_data"
    }
   ],
   "source": [
    "sns.countplot(x = 'Martial_Status', data = data)"
   ]
  },
  {
   "cell_type": "code",
   "execution_count": 47,
   "metadata": {},
   "outputs": [
    {
     "data": {
      "text/plain": [
       "<matplotlib.axes._subplots.AxesSubplot at 0x7fb0d1011050>"
      ]
     },
     "execution_count": 47,
     "metadata": {},
     "output_type": "execute_result"
    },
    {
     "data": {
      "image/png": "[encoded data removed]",
      "text/plain": [
       "<Figure size 842.4x595.44 with 1 Axes>"
      ]
     },
     "metadata": {},
     "output_type": "display_data"
    }
   ],
   "source": [
    "\n",
    "sns.countplot(y = 'Occupation', data = data)"
   ]
  },
  {
   "cell_type": "code",
   "execution_count": 48,
   "metadata": {},
   "outputs": [
    {
     "data": {
      "text/plain": [
       "<matplotlib.axes._subplots.AxesSubplot at 0x7fb0d7d813d0>"
      ]
     },
     "execution_count": 48,
     "metadata": {},
     "output_type": "execute_result"
    },
    {
     "data": {
      "image/png": "[encoded data removed]",
      "text/plain": [
       "<Figure size 842.4x595.44 with 1 Axes>"
      ]
     },
     "metadata": {},
     "output_type": "display_data"
    }
   ],
   "source": [
    "#  'Sex', 'Native_Country', 'Income', 'NetCapital']\n",
    "sns.countplot(x = 'Relationship', data = data)"
   ]
  },
  {
   "cell_type": "code",
   "execution_count": 49,
   "metadata": {},
   "outputs": [
    {
     "data": {
      "text/plain": [
       "<matplotlib.axes._subplots.AxesSubplot at 0x7fb0d7a8a0d0>"
      ]
     },
     "execution_count": 49,
     "metadata": {},
     "output_type": "execute_result"
    },
    {
     "data": {
      "image/png": "[encoded data removed]",
      "text/plain": [
       "<Figure size 842.4x595.44 with 1 Axes>"
      ]
     },
     "metadata": {},
     "output_type": "display_data"
    }
   ],
   "source": [
    "sns.countplot(x = 'Race', data = data)"
   ]
  },
  {
   "cell_type": "code",
   "execution_count": 50,
   "metadata": {},
   "outputs": [
    {
     "data": {
      "text/plain": [
       "<matplotlib.axes._subplots.AxesSubplot at 0x7fb0d4f28750>"
      ]
     },
     "execution_count": 50,
     "metadata": {},
     "output_type": "execute_result"
    },
    {
     "data": {
      "image/png": "[encoded data removed]",
      "text/plain": [
       "<Figure size 842.4x595.44 with 1 Axes>"
      ]
     },
     "metadata": {},
     "output_type": "display_data"
    }
   ],
   "source": [
    "#  'Sex', 'Native_Country', 'Income', 'NetCapital']\n",
    "sns.countplot(x = 'Sex', data = data)"
   ]
  },
  {
   "cell_type": "code",
   "execution_count": 51,
   "metadata": {},
   "outputs": [
    {
     "data": {
      "text/plain": [
       "<matplotlib.axes._subplots.AxesSubplot at 0x7fb0d0f09450>"
      ]
     },
     "execution_count": 51,
     "metadata": {},
     "output_type": "execute_result"
    },
    {
     "data": {
      "image/png": "[encoded data removed]",
      "text/plain": [
       "<Figure size 842.4x595.44 with 1 Axes>"
      ]
     },
     "metadata": {},
     "output_type": "display_data"
    }
   ],
   "source": [
    "#  'Sex', 'Native_Country', 'Income', 'NetCapital']\n",
    "sns.countplot(y = 'Native_Country', data = data)"
   ]
  },
  {
   "cell_type": "code",
   "execution_count": 52,
   "metadata": {},
   "outputs": [
    {
     "data": {
      "text/plain": [
       "<matplotlib.axes._subplots.AxesSubplot at 0x7fb0dc079150>"
      ]
     },
     "execution_count": 52,
     "metadata": {},
     "output_type": "execute_result"
    },
    {
     "data": {
      "image/png": "[encoded data removed]",
      "text/plain": [
       "<Figure size 842.4x595.44 with 1 Axes>"
      ]
     },
     "metadata": {},
     "output_type": "display_data"
    }
   ],
   "source": [
    "#  'Sex', 'Native_Country', 'Income', 'NetCapital']\n",
    "sns.countplot(x = 'Income', data = data)"
   ]
  },
  {
   "cell_type": "code",
   "execution_count": 53,
   "metadata": {},
   "outputs": [
    {
     "data": {
      "text/plain": [
       "<matplotlib.axes._subplots.AxesSubplot at 0x7fb0d1022150>"
      ]
     },
     "execution_count": 53,
     "metadata": {},
     "output_type": "execute_result"
    },
    {
     "data": {
      "image/png": "[encoded data removed]",
      "text/plain": [
       "<Figure size 842.4x595.44 with 1 Axes>"
      ]
     },
     "metadata": {},
     "output_type": "display_data"
    }
   ],
   "source": [
    "#  'Sex', 'Native_Country', 'Income', 'NetCapital']\n",
    "sns.countplot(x = 'NetCapital', data = data)"
   ]
  },
  {
   "cell_type": "markdown",
   "metadata": {},
   "source": [
    "# EDA for Data Modelling"
   ]
  },
  {
   "cell_type": "markdown",
   "metadata": {},
   "source": [
    "One Hot Encoding all variables/predictors"
   ]
  },
  {
   "cell_type": "markdown",
   "metadata": {},
   "source": [
    "#### We have '?' among int values of WorkClass, Occupation and Native_Country"
   ]
  },
  {
   "cell_type": "code",
   "execution_count": 54,
   "metadata": {},
   "outputs": [
    {
     "data": {
      "text/html": [
       "<div>\n",
       "<style scoped>\n",
       "    .dataframe tbody tr th:only-of-type {\n",
       "        vertical-align: middle;\n",
       "    }\n",
       "\n",
       "    .dataframe tbody tr th {\n",
       "        vertical-align: top;\n",
       "    }\n",
       "\n",
       "    .dataframe thead th {\n",
       "        text-align: right;\n",
       "    }\n",
       "</style>\n",
       "<table border=\"1\" class=\"dataframe\">\n",
       "  <thead>\n",
       "    <tr style=\"text-align: right;\">\n",
       "      <th></th>\n",
       "      <th>Age</th>\n",
       "      <th>WorkClass</th>\n",
       "      <th>Education</th>\n",
       "      <th>Martial_Status</th>\n",
       "      <th>Occupation</th>\n",
       "      <th>Relationship</th>\n",
       "      <th>Race</th>\n",
       "      <th>Sex</th>\n",
       "      <th>Hours_per_Week</th>\n",
       "      <th>Native_Country</th>\n",
       "      <th>Income</th>\n",
       "      <th>NetCapital</th>\n",
       "    </tr>\n",
       "  </thead>\n",
       "  <tbody>\n",
       "    <tr>\n",
       "      <th>0</th>\n",
       "      <td>39</td>\n",
       "      <td>State-gov</td>\n",
       "      <td>Bachelors</td>\n",
       "      <td>Never-married</td>\n",
       "      <td>Adm-clerical</td>\n",
       "      <td>Not-in-family</td>\n",
       "      <td>White</td>\n",
       "      <td>Male</td>\n",
       "      <td>40.0</td>\n",
       "      <td>United-States</td>\n",
       "      <td>&lt;=50K</td>\n",
       "      <td>1</td>\n",
       "    </tr>\n",
       "    <tr>\n",
       "      <th>0</th>\n",
       "      <td>39</td>\n",
       "      <td>State-gov</td>\n",
       "      <td>Bachelors</td>\n",
       "      <td>Never-married</td>\n",
       "      <td>Adm-clerical</td>\n",
       "      <td>Not-in-family</td>\n",
       "      <td>White</td>\n",
       "      <td>Male</td>\n",
       "      <td>40.0</td>\n",
       "      <td>United-States</td>\n",
       "      <td>&lt;=50K</td>\n",
       "      <td>1</td>\n",
       "    </tr>\n",
       "    <tr>\n",
       "      <th>0</th>\n",
       "      <td>39</td>\n",
       "      <td>State-gov</td>\n",
       "      <td>Bachelors</td>\n",
       "      <td>Never-married</td>\n",
       "      <td>Adm-clerical</td>\n",
       "      <td>Not-in-family</td>\n",
       "      <td>White</td>\n",
       "      <td>Male</td>\n",
       "      <td>40.0</td>\n",
       "      <td>United-States</td>\n",
       "      <td>&lt;=50K</td>\n",
       "      <td>1</td>\n",
       "    </tr>\n",
       "  </tbody>\n",
       "</table>\n",
       "</div>"
      ],
      "text/plain": [
       "   Age   WorkClass   Education  Martial_Status     Occupation    Relationship  \\\n",
       "0   39   State-gov   Bachelors   Never-married   Adm-clerical   Not-in-family   \n",
       "0   39   State-gov   Bachelors   Never-married   Adm-clerical   Not-in-family   \n",
       "0   39   State-gov   Bachelors   Never-married   Adm-clerical   Not-in-family   \n",
       "\n",
       "     Race    Sex  Hours_per_Week  Native_Country  Income  NetCapital  \n",
       "0   White   Male            40.0   United-States   <=50K           1  \n",
       "0   White   Male            40.0   United-States   <=50K           1  \n",
       "0   White   Male            40.0   United-States   <=50K           1  "
      ]
     },
     "execution_count": 54,
     "metadata": {},
     "output_type": "execute_result"
    }
   ],
   "source": [
    "replace_dict = {'WorkClass': {'?': pd.to_numeric(data.WorkClass, errors='coerce').mean()}, \n",
    "                'Occupation':{'?': pd.to_numeric(data.Occupation, errors='coerce').mean()}, \n",
    "                'Native_Country':{'?': pd.to_numeric(data.Native_Country, errors='coerce').mean()}}\n",
    "\n",
    "data.replace(replace_dict, inplace=True)\n",
    "data.head(3)"
   ]
  },
  {
   "cell_type": "code",
   "execution_count": 55,
   "metadata": {},
   "outputs": [
    {
     "data": {
      "text/plain": [
       " Private             426048\n",
       " Self-emp-not-inc     43355\n",
       " Local-gov            38426\n",
       " ?                    33695\n",
       " State-gov            23256\n",
       " Self-emp-inc         19085\n",
       " Federal-gov          17297\n",
       " Without-pay            238\n",
       " Never-worked           154\n",
       "Name: WorkClass, dtype: int64"
      ]
     },
     "execution_count": 55,
     "metadata": {},
     "output_type": "execute_result"
    }
   ],
   "source": [
    "data.WorkClass.value_counts()"
   ]
  },
  {
   "cell_type": "code",
   "execution_count": 56,
   "metadata": {},
   "outputs": [
    {
     "data": {
      "text/plain": [
       " Private              426048\n",
       " Self-emp-not-inc      43355\n",
       " Local-gov             38426\n",
       " Unknown_WorkClass     33695\n",
       " State-gov             23256\n",
       " Self-emp-inc          19085\n",
       " Federal-gov           17297\n",
       " Without-pay             238\n",
       " Never-worked            154\n",
       "Name: WorkClass, dtype: int64"
      ]
     },
     "execution_count": 56,
     "metadata": {},
     "output_type": "execute_result"
    }
   ],
   "source": [
    "data.WorkClass = data.WorkClass.str.replace('?','Unknown_WorkClass')\n",
    "data.WorkClass.value_counts()"
   ]
  },
  {
   "cell_type": "code",
   "execution_count": 57,
   "metadata": {},
   "outputs": [
    {
     "data": {
      "text/plain": [
       " Craft-repair          76689\n",
       " Prof-specialty        74633\n",
       " Exec-managerial       72954\n",
       " Adm-clerical          70507\n",
       " Sales                 67836\n",
       " Other-service         60498\n",
       " Machine-op-inspct     38035\n",
       " Unknown_Occupation    33849\n",
       " Transport-moving      29586\n",
       " Handlers-cleaners     27310\n",
       " Tech-support          17350\n",
       " Farming-fishing       16421\n",
       " Protective-serv       12776\n",
       " Priv-house-serv        2920\n",
       " Armed-Forces            190\n",
       "Name: Occupation, dtype: int64"
      ]
     },
     "execution_count": 57,
     "metadata": {},
     "output_type": "execute_result"
    }
   ],
   "source": [
    "data.Occupation = data.Occupation.str.replace('?','Unknown_Occupation')\n",
    "data.Occupation.value_counts()"
   ]
  },
  {
   "cell_type": "code",
   "execution_count": 58,
   "metadata": {},
   "outputs": [
    {
     "data": {
      "text/plain": [
       " United-States                 531003\n",
       " Mexico                         18290\n",
       " Unknown                        10966\n",
       " Philippines                     3197\n",
       " El-Salvador                     2644\n",
       " Germany                         2528\n",
       " Cuba                            2293\n",
       " Puerto-Rico                     2246\n",
       " Canada                          2112\n",
       " Jamaica                         1678\n",
       " Guatemala                       1664\n",
       " India                           1636\n",
       " England                         1595\n",
       " China                           1311\n",
       " Dominican-Republic              1311\n",
       " Columbia                        1300\n",
       " Italy                           1292\n",
       " South                           1272\n",
       " Japan                           1121\n",
       " Poland                          1076\n",
       " Vietnam                         1061\n",
       " Nicaragua                        984\n",
       " Taiwan                           926\n",
       " Haiti                            897\n",
       " Peru                             836\n",
       " Iran                             763\n",
       " France                           542\n",
       " Portugal                         531\n",
       " Ecuador                          505\n",
       " Hong                             433\n",
       " Greece                           402\n",
       " Trinadad&Tobago                  395\n",
       " Laos                             370\n",
       " Cambodia                         359\n",
       " Yugoslavia                       339\n",
       " Honduras                         326\n",
       " Thailand                         323\n",
       " Ireland                          320\n",
       " Outlying-US(Guam-USVI-etc)       279\n",
       " Hungary                          228\n",
       " Scotland                         198\n",
       " Holand-Netherlands                 2\n",
       "Name: Native_Country, dtype: int64"
      ]
     },
     "execution_count": 58,
     "metadata": {},
     "output_type": "execute_result"
    }
   ],
   "source": [
    "data.Native_Country = data.Native_Country.str.replace('?','Unknown')\n",
    "data.Native_Country.value_counts()"
   ]
  },
  {
   "cell_type": "markdown",
   "metadata": {},
   "source": [
    "#### Coverting Native_Country Column to United-States and Others (Five types ONLY)\n"
   ]
  },
  {
   "cell_type": "code",
   "execution_count": 59,
   "metadata": {},
   "outputs": [
    {
     "data": {
      "text/plain": [
       "4           Cuba\n",
       "4           Cuba\n",
       "4           Cuba\n",
       "4           Cuba\n",
       "4           Cuba\n",
       "          ...   \n",
       "32553     Taiwan\n",
       "32553     Taiwan\n",
       "32553     Taiwan\n",
       "32553     Taiwan\n",
       "32553     Taiwan\n",
       "Name: Native_Country, Length: 70551, dtype: object"
      ]
     },
     "execution_count": 59,
     "metadata": {},
     "output_type": "execute_result"
    }
   ],
   "source": [
    "data[data.Native_Country != ' United-States'].Native_Country  #.Native_Country\n",
    "\n"
   ]
  },
  {
   "cell_type": "code",
   "execution_count": 60,
   "metadata": {},
   "outputs": [
    {
     "name": "stdout",
     "output_type": "stream",
     "text": [
      " United-States    531003\n",
      "Others             41295\n",
      " Mexico            18290\n",
      " Unknown           10966\n",
      "Name: Native_Country, dtype: int64\n"
     ]
    }
   ],
   "source": [
    "need = data['Native_Country'].value_counts().index[:3]\n",
    "data['Native_Country']= np.where(data['Native_Country'].isin(need), data['Native_Country'], 'Others')\n",
    "\n",
    "valCount = data['Native_Country'].value_counts()\n",
    "print(valCount)"
   ]
  },
  {
   "cell_type": "code",
   "execution_count": 61,
   "metadata": {},
   "outputs": [
    {
     "data": {
      "text/plain": [
       " United-States    531003\n",
       "Others             41295\n",
       " Mexico            18290\n",
       " Unknown           10966\n",
       "Name: Native_Country, dtype: int64"
      ]
     },
     "execution_count": 61,
     "metadata": {},
     "output_type": "execute_result"
    }
   ],
   "source": [
    "#data.Native_Country = \n",
    "data.Native_Country.value_counts()"
   ]
  },
  {
   "cell_type": "markdown",
   "metadata": {},
   "source": [
    "<span style=\"color:blue\"> One hot encoding data, since Logistic regression requires all inputs as numerical values.\n",
    "However Naive bayes can even deal without them </span>"
   ]
  },
  {
   "cell_type": "code",
   "execution_count": 62,
   "metadata": {},
   "outputs": [
    {
     "name": "stderr",
     "output_type": "stream",
     "text": [
      "/Users/hanyhamdani/opt/anaconda3/lib/python3.7/site-packages/ipykernel_launcher.py:4: SettingWithCopyWarning: \n",
      "A value is trying to be set on a copy of a slice from a DataFrame\n",
      "\n",
      "See the caveats in the documentation: http://pandas.pydata.org/pandas-docs/stable/user_guide/indexing.html#returning-a-view-versus-a-copy\n",
      "  after removing the cwd from sys.path.\n",
      "/Users/hanyhamdani/opt/anaconda3/lib/python3.7/site-packages/ipykernel_launcher.py:5: SettingWithCopyWarning: \n",
      "A value is trying to be set on a copy of a slice from a DataFrame\n",
      "\n",
      "See the caveats in the documentation: http://pandas.pydata.org/pandas-docs/stable/user_guide/indexing.html#returning-a-view-versus-a-copy\n",
      "  \"\"\"\n"
     ]
    },
    {
     "data": {
      "text/plain": [
       "0    458086\n",
       "1    143468\n",
       "Name: Income, dtype: int64"
      ]
     },
     "execution_count": 62,
     "metadata": {},
     "output_type": "execute_result"
    }
   ],
   "source": [
    "#our prediction value is : Income\n",
    "#data['Income'].values\n",
    "\n",
    "data.Income[data['Income'] == \" <=50K\"] = 0\n",
    "data.Income[data['Income'] == \" >50K\"] = 1\n",
    "data['Income'].value_counts()"
   ]
  },
  {
   "cell_type": "code",
   "execution_count": 63,
   "metadata": {},
   "outputs": [
    {
     "data": {
      "text/plain": [
       "0    458086\n",
       "1    143468\n",
       "Name: Income, dtype: int64"
      ]
     },
     "execution_count": 63,
     "metadata": {},
     "output_type": "execute_result"
    }
   ],
   "source": [
    "data['Income'].value_counts()"
   ]
  },
  {
   "cell_type": "code",
   "execution_count": 64,
   "metadata": {},
   "outputs": [
    {
     "data": {
      "text/plain": [
       "array([' Bachelors', ' HS-grad', ' 11th', ' Masters', ' 9th',\n",
       "       ' Some-college', ' Assoc-acdm', ' Assoc-voc', ' 7th-8th',\n",
       "       ' Doctorate', ' Prof-school', ' 5th-6th', ' 10th', ' 1st-4th',\n",
       "       ' Preschool', ' 12th'], dtype=object)"
      ]
     },
     "execution_count": 64,
     "metadata": {},
     "output_type": "execute_result"
    }
   ],
   "source": [
    "data.Education.unique()"
   ]
  },
  {
   "cell_type": "code",
   "execution_count": 65,
   "metadata": {},
   "outputs": [
    {
     "data": {
      "text/plain": [
       "High-Secondary     393207\n",
       "Bachelors           98016\n",
       "Secondary           47465\n",
       "Masters             30134\n",
       " High-Secondary     20112\n",
       "Doctorate            7503\n",
       "Primary              5117\n",
       "Name: Education_group, dtype: int64"
      ]
     },
     "execution_count": 65,
     "metadata": {},
     "output_type": "execute_result"
    }
   ],
   "source": [
    "mapping = {' Preschool': 'Primary', ' 1st-4th': 'Primary',' 5th-6th':'Secondary', ' 7th-8th':'Secondary',\n",
    " ' 9th': 'Secondary', ' 10th': 'Secondary', ' 11th': 'High-Secondary',' 12th':'High-Secondary',\n",
    " ' HS-grad':'High-Secondary', ' Some-college':'High-Secondary',' Prof-school':'High-Secondary',\n",
    " ' Assoc-voc':'High-Secondary',' Assoc-acdm':' High-Secondary',' Bachelors':'Bachelors', \n",
    "  ' Masters':'Masters',' Doctorate':'Doctorate' }\n",
    "\n",
    "data['Education_group'] = data.Education.map(mapping)\n",
    "data.Education_group.value_counts()"
   ]
  },
  {
   "cell_type": "code",
   "execution_count": 66,
   "metadata": {},
   "outputs": [],
   "source": [
    "data.drop('Education', axis = 1,inplace = True)"
   ]
  },
  {
   "cell_type": "code",
   "execution_count": 67,
   "metadata": {},
   "outputs": [
    {
     "name": "stdout",
     "output_type": "stream",
     "text": [
      " Husband           240154\n",
      " Not-in-family     154585\n",
      " Own-child          95385\n",
      " Unmarried          64103\n",
      " Wife               27701\n",
      " Other-relative     19626\n",
      "Name: Relationship, dtype: int64\n",
      " Married-civ-spouse       272124\n",
      " Never-married            203392\n",
      " Divorced                  80312\n",
      " Separated                 20652\n",
      " Widowed                   16793\n",
      " Married-spouse-absent      7863\n",
      " Married-AF-spouse           418\n",
      "Name: Martial_Status, dtype: int64\n"
     ]
    }
   ],
   "source": [
    "# working on relationship variable vs martial_Status\n",
    "\n",
    "print(data['Relationship'].value_counts())\n",
    "print(data['Martial_Status'].value_counts())\n",
    "#we will group martial_status together"
   ]
  },
  {
   "cell_type": "code",
   "execution_count": 68,
   "metadata": {},
   "outputs": [
    {
     "data": {
      "text/plain": [
       "Married          272124\n",
       "Never-married    203392\n",
       "Separated        117757\n",
       "Married-AS         8281\n",
       "Name: Martial_Status, dtype: int64"
      ]
     },
     "execution_count": 68,
     "metadata": {},
     "output_type": "execute_result"
    }
   ],
   "source": [
    "mapping = {' Widowed': 'Separated', ' Separated':'Separated', ' Divorced':'Separated',\n",
    "          ' Married-spouse-absent': 'Married-AS', ' Married-AF-spouse':'Married-AS', \n",
    "          ' Married-civ-spouse':'Married',' Never-married':'Never-married' }\n",
    "\n",
    "data.Martial_Status = data.Martial_Status.map(mapping)\n",
    "data.Martial_Status.value_counts()"
   ]
  },
  {
   "cell_type": "markdown",
   "metadata": {},
   "source": [
    "#### Dropping Relationship values as these could be redundant information"
   ]
  },
  {
   "cell_type": "code",
   "execution_count": 69,
   "metadata": {},
   "outputs": [
    {
     "data": {
      "text/plain": [
       "Index(['Age', 'WorkClass', 'Martial_Status', 'Occupation', 'Race', 'Sex',\n",
       "       'Hours_per_Week', 'Native_Country', 'Income', 'NetCapital',\n",
       "       'Education_group'],\n",
       "      dtype='object')"
      ]
     },
     "execution_count": 69,
     "metadata": {},
     "output_type": "execute_result"
    }
   ],
   "source": [
    "data.drop('Relationship', axis = 1, inplace = True)\n",
    "data.columns"
   ]
  },
  {
   "cell_type": "code",
   "execution_count": 70,
   "metadata": {},
   "outputs": [],
   "source": [
    "#resampled_df = data.sample(frac= 1, replace = False, random_state = 1)\n",
    "#resampled_df.shape"
   ]
  },
  {
   "cell_type": "markdown",
   "metadata": {},
   "source": [
    "### Dividing Data into X and y"
   ]
  },
  {
   "cell_type": "code",
   "execution_count": 71,
   "metadata": {},
   "outputs": [
    {
     "data": {
      "text/html": [
       "<div>\n",
       "<style scoped>\n",
       "    .dataframe tbody tr th:only-of-type {\n",
       "        vertical-align: middle;\n",
       "    }\n",
       "\n",
       "    .dataframe tbody tr th {\n",
       "        vertical-align: top;\n",
       "    }\n",
       "\n",
       "    .dataframe thead th {\n",
       "        text-align: right;\n",
       "    }\n",
       "</style>\n",
       "<table border=\"1\" class=\"dataframe\">\n",
       "  <thead>\n",
       "    <tr style=\"text-align: right;\">\n",
       "      <th></th>\n",
       "      <th>Income</th>\n",
       "    </tr>\n",
       "  </thead>\n",
       "  <tbody>\n",
       "    <tr>\n",
       "      <th>0</th>\n",
       "      <td>0</td>\n",
       "    </tr>\n",
       "    <tr>\n",
       "      <th>0</th>\n",
       "      <td>0</td>\n",
       "    </tr>\n",
       "    <tr>\n",
       "      <th>0</th>\n",
       "      <td>0</td>\n",
       "    </tr>\n",
       "    <tr>\n",
       "      <th>0</th>\n",
       "      <td>0</td>\n",
       "    </tr>\n",
       "    <tr>\n",
       "      <th>0</th>\n",
       "      <td>0</td>\n",
       "    </tr>\n",
       "  </tbody>\n",
       "</table>\n",
       "</div>"
      ],
      "text/plain": [
       "  Income\n",
       "0      0\n",
       "0      0\n",
       "0      0\n",
       "0      0\n",
       "0      0"
      ]
     },
     "execution_count": 71,
     "metadata": {},
     "output_type": "execute_result"
    }
   ],
   "source": [
    "y = data.loc[:, data.columns == 'Income']\n",
    "X = data.loc[:, data.columns != 'Income']\n",
    "\n",
    "y.head()"
   ]
  },
  {
   "cell_type": "markdown",
   "metadata": {},
   "source": [
    "Changing y to int, and x,y to numpy arrays"
   ]
  },
  {
   "cell_type": "code",
   "execution_count": 72,
   "metadata": {},
   "outputs": [],
   "source": [
    "y=y.astype('int')  #since it was giving value error: y value unknown label type"
   ]
  },
  {
   "cell_type": "code",
   "execution_count": 73,
   "metadata": {},
   "outputs": [],
   "source": [
    "\n",
    "# One hot encode\n",
    "X = pd.get_dummies(X[X.columns]) #.columns.drop(\"income\")"
   ]
  },
  {
   "cell_type": "code",
   "execution_count": 74,
   "metadata": {},
   "outputs": [
    {
     "data": {
      "text/plain": [
       "((601554, 49), (601554, 1))"
      ]
     },
     "execution_count": 74,
     "metadata": {},
     "output_type": "execute_result"
    }
   ],
   "source": [
    "x_columns = X.columns\n",
    "X.shape , y.shape"
   ]
  },
  {
   "cell_type": "code",
   "execution_count": 75,
   "metadata": {},
   "outputs": [],
   "source": [
    "#storing names of columns before we convert them to np arrays. These will be used by decision tree\n",
    "x_names = X.columns\n",
    "y_names = y.columns"
   ]
  },
  {
   "cell_type": "code",
   "execution_count": 76,
   "metadata": {},
   "outputs": [],
   "source": [
    "#TRANSFORMING THE DATAFRAME TO NUMPY ARRAY\n",
    "#X = np.asarray(X)\n",
    "#y = np.asarray(y)\n",
    "#X, y"
   ]
  },
  {
   "cell_type": "markdown",
   "metadata": {},
   "source": [
    "#### Splitting data into train test"
   ]
  },
  {
   "cell_type": "markdown",
   "metadata": {},
   "source": [
    "#### Normalizing Data\n",
    "To make each column within same normalize throughout the data"
   ]
  },
  {
   "cell_type": "code",
   "execution_count": 77,
   "metadata": {},
   "outputs": [],
   "source": [
    "#from sklearn import preprocessing\n",
    "#X = preprocessing.StandardScaler().fit(X).transform(X)\n",
    "#X[0:5]"
   ]
  },
  {
   "cell_type": "markdown",
   "metadata": {},
   "source": [
    "#### Splitting data into train test"
   ]
  },
  {
   "cell_type": "code",
   "execution_count": 78,
   "metadata": {},
   "outputs": [
    {
     "data": {
      "text/plain": [
       "(421087, 421087, 180467)"
      ]
     },
     "execution_count": 78,
     "metadata": {},
     "output_type": "execute_result"
    }
   ],
   "source": [
    "X_train, X_test, y_train, y_test = train_test_split(X, y, test_size=0.3, random_state = 10)\n",
    "X_train.shape[0], y_train.shape[0], y_test.shape[0]"
   ]
  },
  {
   "cell_type": "markdown",
   "metadata": {},
   "source": [
    "# <span  style= \"color:red\" >Modeling </span>"
   ]
  },
  {
   "cell_type": "markdown",
   "metadata": {},
   "source": [
    "#### Q10: Naïve Bayes Model"
   ]
  },
  {
   "cell_type": "markdown",
   "metadata": {},
   "source": [
    "#### Q10.1 Build a model to predict income > $50K using naïve Bayes."
   ]
  },
  {
   "cell_type": "code",
   "execution_count": 79,
   "metadata": {},
   "outputs": [
    {
     "name": "stderr",
     "output_type": "stream",
     "text": [
      "/Users/hanyhamdani/opt/anaconda3/lib/python3.7/site-packages/sklearn/utils/validation.py:724: DataConversionWarning: A column-vector y was passed when a 1d array was expected. Please change the shape of y to (n_samples, ), for example using ravel().\n",
      "  y = column_or_1d(y, warn=True)\n"
     ]
    },
    {
     "data": {
      "text/plain": [
       "array([0, 1, 0, ..., 0, 0, 1])"
      ]
     },
     "execution_count": 79,
     "metadata": {},
     "output_type": "execute_result"
    }
   ],
   "source": [
    "#Naive Bayes\n",
    "gnb = GaussianNB().fit(X_train, y_train)\n",
    "ypred_gnb = gnb.predict(X_test)\n",
    "\n",
    "ypred_gnb"
   ]
  },
  {
   "cell_type": "code",
   "execution_count": 80,
   "metadata": {},
   "outputs": [
    {
     "data": {
      "text/plain": [
       "array([0, 1])"
      ]
     },
     "execution_count": 80,
     "metadata": {},
     "output_type": "execute_result"
    }
   ],
   "source": [
    "np.unique(ypred_gnb)"
   ]
  },
  {
   "cell_type": "markdown",
   "metadata": {},
   "source": [
    "#### Q10.2 Score the validation data (predict) using the model. Produce a confusion table and an ROC curve for the scored validation data."
   ]
  },
  {
   "cell_type": "code",
   "execution_count": 81,
   "metadata": {},
   "outputs": [],
   "source": [
    "#print(\"Number of mislabeled points out of a total %d points : %d\"\n",
    "#...       % (X_test.shape[0], (y_test != ypred_gnb).sum()))"
   ]
  },
  {
   "cell_type": "code",
   "execution_count": 82,
   "metadata": {},
   "outputs": [
    {
     "name": "stdout",
     "output_type": "stream",
     "text": [
      "              precision    recall  f1-score   support\n",
      "\n",
      "           0       0.95      0.50      0.65    137537\n",
      "           1       0.36      0.91      0.52     42930\n",
      "\n",
      "    accuracy                           0.60    180467\n",
      "   macro avg       0.66      0.71      0.59    180467\n",
      "weighted avg       0.81      0.60      0.62    180467\n",
      "\n"
     ]
    }
   ],
   "source": [
    "from sklearn.metrics import classification_report\n",
    "\n",
    "\n",
    "print(classification_report(y_test, ypred_gnb))"
   ]
  },
  {
   "cell_type": "code",
   "execution_count": 83,
   "metadata": {},
   "outputs": [
    {
     "data": {
      "text/plain": [
       "array([[68612, 68925],\n",
       "       [ 3684, 39246]])"
      ]
     },
     "execution_count": 83,
     "metadata": {},
     "output_type": "execute_result"
    }
   ],
   "source": [
    "# Print the Confusion Matrix and slice it into four pieces\n",
    "\n",
    "from sklearn.metrics import confusion_matrix\n",
    "\n",
    "\n",
    "cm_gnb = confusion_matrix(y_test, ypred_gnb)\n",
    "cm_gnb"
   ]
  },
  {
   "cell_type": "code",
   "execution_count": 84,
   "metadata": {},
   "outputs": [
    {
     "data": {
      "image/png": "[encoded data removed]",
      "text/plain": [
       "<Figure size 842.4x595.44 with 2 Axes>"
      ]
     },
     "metadata": {},
     "output_type": "display_data"
    }
   ],
   "source": [
    "f = sns.heatmap(cm_gnb, annot=True, fmt='d', cmap = 'Blues' ) \n",
    "plt.show()"
   ]
  },
  {
   "cell_type": "markdown",
   "metadata": {},
   "source": [
    "#### ROC Curve "
   ]
  },
  {
   "cell_type": "code",
   "execution_count": 85,
   "metadata": {},
   "outputs": [
    {
     "data": {
      "image/png": "[encoded data removed]",
      "text/plain": [
       "<Figure size 842.4x595.44 with 1 Axes>"
      ]
     },
     "metadata": {},
     "output_type": "display_data"
    }
   ],
   "source": [
    "from sklearn.metrics import roc_auc_score\n",
    "from sklearn.metrics import roc_curve\n",
    "gnb_roc_auc = roc_auc_score(y_test, gnb.predict(X_test))\n",
    "fpr, tpr, thresholds = roc_curve(y_test, gnb.predict_proba(X_test)[:,1])\n",
    "plt.figure()\n",
    "plt.plot(fpr, tpr, label='Naive Bayes (area = %0.2f)' % gnb_roc_auc)\n",
    "plt.plot([0, 1], [0, 1],'r--')\n",
    "plt.xlim([0.0, 1.0])\n",
    "plt.ylim([0.0, 1.05])\n",
    "plt.xlabel('False Positive Rate')\n",
    "plt.ylabel('True Positive Rate')\n",
    "plt.title('Receiver operating characteristic')\n",
    "plt.legend(loc=\"lower right\")\n",
    "plt.savefig('GNB_ROC')\n",
    "plt.show()"
   ]
  },
  {
   "cell_type": "markdown",
   "metadata": {},
   "source": [
    "# Q11: Logit Model\n",
    "\n",
    "#### Q11.1 Build a model to predict income > $50K using logistic regression. Randomly partition the data into a training set (70%) and a validation set (30%)."
   ]
  },
  {
   "cell_type": "code",
   "execution_count": 86,
   "metadata": {},
   "outputs": [
    {
     "name": "stderr",
     "output_type": "stream",
     "text": [
      "/Users/hanyhamdani/opt/anaconda3/lib/python3.7/site-packages/sklearn/linear_model/logistic.py:432: FutureWarning: Default solver will be changed to 'lbfgs' in 0.22. Specify a solver to silence this warning.\n",
      "  FutureWarning)\n",
      "/Users/hanyhamdani/opt/anaconda3/lib/python3.7/site-packages/sklearn/utils/validation.py:724: DataConversionWarning: A column-vector y was passed when a 1d array was expected. Please change the shape of y to (n_samples, ), for example using ravel().\n",
      "  y = column_or_1d(y, warn=True)\n"
     ]
    },
    {
     "data": {
      "text/plain": [
       "LogisticRegression(C=1.0, class_weight=None, dual=False, fit_intercept=True,\n",
       "                   intercept_scaling=1, l1_ratio=None, max_iter=100,\n",
       "                   multi_class='warn', n_jobs=None, penalty='l2',\n",
       "                   random_state=None, solver='warn', tol=0.0001, verbose=0,\n",
       "                   warm_start=False)"
      ]
     },
     "execution_count": 86,
     "metadata": {},
     "output_type": "execute_result"
    }
   ],
   "source": [
    "from sklearn.linear_model import LogisticRegression\n",
    "from sklearn.metrics import confusion_matrix\n",
    "LR = LogisticRegression().fit(X_train,y_train)\n",
    "LR"
   ]
  },
  {
   "cell_type": "code",
   "execution_count": 87,
   "metadata": {},
   "outputs": [
    {
     "data": {
      "text/plain": [
       "array([0, 0, 0, ..., 0, 0, 0])"
      ]
     },
     "execution_count": 87,
     "metadata": {},
     "output_type": "execute_result"
    }
   ],
   "source": [
    "#Using our model to predict our test values\n",
    "ypred_lr = LR.predict(X_test)\n",
    "ypred_lr"
   ]
  },
  {
   "cell_type": "code",
   "execution_count": 88,
   "metadata": {},
   "outputs": [
    {
     "data": {
      "text/plain": [
       "0.13523846682623442"
      ]
     },
     "execution_count": 88,
     "metadata": {},
     "output_type": "execute_result"
    }
   ],
   "source": [
    "from sklearn.metrics import r2_score\n",
    "r2_score(y_test,ypred_lr)"
   ]
  },
  {
   "cell_type": "markdown",
   "metadata": {},
   "source": [
    "#### Q11.2 For which variables can we reject the null hypothesis that their coefficients equal zero?"
   ]
  },
  {
   "cell_type": "markdown",
   "metadata": {},
   "source": [
    "Age, Hours_per_Week, Net_Capital are the prime useful variables, \n",
    "all others have p value > 0.05 and show no significance in relationship with our dependent/y variable"
   ]
  },
  {
   "cell_type": "code",
   "execution_count": 89,
   "metadata": {},
   "outputs": [
    {
     "name": "stdout",
     "output_type": "stream",
     "text": [
      "Warning: Maximum number of iterations has been exceeded.\n",
      "         Current function value: 0.335102\n",
      "         Iterations: 35\n"
     ]
    },
    {
     "name": "stderr",
     "output_type": "stream",
     "text": [
      "/Users/hanyhamdani/opt/anaconda3/lib/python3.7/site-packages/statsmodels/base/model.py:568: ConvergenceWarning: Maximum Likelihood optimization failed to converge. Check mle_retvals\n",
      "  \"Check mle_retvals\", ConvergenceWarning)\n",
      "/Users/hanyhamdani/opt/anaconda3/lib/python3.7/site-packages/statsmodels/base/model.py:1354: RuntimeWarning: invalid value encountered in sqrt\n",
      "  bse_ = np.sqrt(np.diag(self.cov_params()))\n",
      "/Users/hanyhamdani/opt/anaconda3/lib/python3.7/site-packages/scipy/stats/_distn_infrastructure.py:903: RuntimeWarning: invalid value encountered in greater\n",
      "  return (a < x) & (x < b)\n",
      "/Users/hanyhamdani/opt/anaconda3/lib/python3.7/site-packages/scipy/stats/_distn_infrastructure.py:903: RuntimeWarning: invalid value encountered in less\n",
      "  return (a < x) & (x < b)\n",
      "/Users/hanyhamdani/opt/anaconda3/lib/python3.7/site-packages/scipy/stats/_distn_infrastructure.py:1912: RuntimeWarning: invalid value encountered in less_equal\n",
      "  cond2 = cond0 & (x <= _a)\n"
     ]
    },
    {
     "name": "stdout",
     "output_type": "stream",
     "text": [
      "                                       Results: Logit\n",
      "=============================================================================================\n",
      "Model:                       Logit                     Pseudo R-squared:          0.390      \n",
      "Dependent Variable:          Income                    AIC:                       282298.1276\n",
      "Date:                        2021-11-10 19:25          BIC:                       282758.0526\n",
      "No. Observations:            421087                    Log-Likelihood:            -1.4111e+05\n",
      "Df Model:                    41                        LL-Null:                   -2.3145e+05\n",
      "Df Residuals:                421045                    LLR p-value:               0.0000     \n",
      "Converged:                   0.0000                    Scale:                     1.0000     \n",
      "No. Iterations:              35.0000                                                         \n",
      "---------------------------------------------------------------------------------------------\n",
      "                                 Coef.     Std.Err.     z     P>|z|     [0.025       0.975]  \n",
      "---------------------------------------------------------------------------------------------\n",
      "Age                               0.0265      0.0004  60.8013 0.0000       0.0256      0.0273\n",
      "Hours_per_Week                    0.0389      0.0005  76.0321 0.0000       0.0379      0.0399\n",
      "NetCapital                        1.4974      0.0125 119.5144 0.0000       1.4729      1.5220\n",
      "WorkClass_ Federal-gov            5.8846         nan      nan    nan          nan         nan\n",
      "WorkClass_ Local-gov              5.2265         nan      nan    nan          nan         nan\n",
      "WorkClass_ Never-worked          -3.3218         nan      nan    nan          nan         nan\n",
      "WorkClass_ Private                5.4153         nan      nan    nan          nan         nan\n",
      "WorkClass_ Self-emp-inc           5.7584         nan      nan    nan          nan         nan\n",
      "WorkClass_ Self-emp-not-inc       5.0800         nan      nan    nan          nan         nan\n",
      "WorkClass_ State-gov              5.0633         nan      nan    nan          nan         nan\n",
      "WorkClass_ Unknown_WorkClass      9.7226         nan      nan    nan          nan         nan\n",
      "WorkClass_ Without-pay          -17.8162         nan      nan    nan          nan         nan\n",
      "Martial_Status_Married            1.7273         nan      nan    nan          nan         nan\n",
      "Martial_Status_Married-AS        -0.1332         nan      nan    nan          nan         nan\n",
      "Martial_Status_Never-married     -0.8251         nan      nan    nan          nan         nan\n",
      "Martial_Status_Separated         -0.4143         nan      nan    nan          nan         nan\n",
      "Occupation_ Adm-clerical          1.6763         nan      nan    nan          nan         nan\n",
      "Occupation_ Armed-Forces          0.5673         nan      nan    nan          nan         nan\n",
      "Occupation_ Craft-repair          1.6300         nan      nan    nan          nan         nan\n",
      "Occupation_ Exec-managerial       2.4608         nan      nan    nan          nan         nan\n",
      "Occupation_ Farming-fishing       0.4500         nan      nan    nan          nan         nan\n",
      "Occupation_ Handlers-cleaners     0.7531         nan      nan    nan          nan         nan\n",
      "Occupation_ Machine-op-inspct     1.1040         nan      nan    nan          nan         nan\n",
      "Occupation_ Other-service         0.7840         nan      nan    nan          nan         nan\n",
      "Occupation_ Priv-house-serv      -1.1664         nan      nan    nan          nan         nan\n",
      "Occupation_ Prof-specialty        2.4964         nan      nan    nan          nan         nan\n",
      "Occupation_ Protective-serv       2.2364         nan      nan    nan          nan         nan\n",
      "Occupation_ Sales                 1.8875         nan      nan    nan          nan         nan\n",
      "Occupation_ Tech-support          2.4358         nan      nan    nan          nan         nan\n",
      "Occupation_ Transport-moving      1.3597         nan      nan    nan          nan         nan\n",
      "Occupation_ Unknown_Occupation   -3.3244         nan      nan    nan          nan         nan\n",
      "Race_ Amer-Indian-Eskimo         -1.6936         nan      nan    nan          nan         nan\n",
      "Race_ Asian-Pac-Islander         -1.0475         nan      nan    nan          nan         nan\n",
      "Race_ Black                      -1.2502         nan      nan    nan          nan         nan\n",
      "Race_ Other                      -1.5163         nan      nan    nan          nan         nan\n",
      "Race_ White                      -1.1020         nan      nan    nan          nan         nan\n",
      "Sex_ Female                     -13.3940         nan      nan    nan          nan         nan\n",
      "Sex_ Male                       -13.2203         nan      nan    nan          nan         nan\n",
      "Native_Country_ Mexico            2.3686         nan      nan    nan          nan         nan\n",
      "Native_Country_ United-States     3.1122         nan      nan    nan          nan         nan\n",
      "Native_Country_ Unknown           2.6904         nan      nan    nan          nan         nan\n",
      "Native_Country_Others             2.8806         nan      nan    nan          nan         nan\n",
      "Education_group_ High-Secondary  -0.7199 120679.9241  -0.0000 1.0000 -236529.0248 236527.5850\n",
      "Education_group_Bachelors        -0.2332 120679.9241  -0.0000 1.0000 -236528.5381 236528.0717\n",
      "Education_group_Doctorate         0.7407 120679.9241   0.0000 1.0000 -236527.5642 236529.0456\n",
      "Education_group_High-Secondary   -1.0687 120679.9241  -0.0000 1.0000 -236529.3736 236527.2362\n",
      "Education_group_Masters           0.0397 120679.9241   0.0000 1.0000 -236528.2652 236528.3446\n",
      "Education_group_Primary          -2.7520 120679.9241  -0.0000 1.0000 -236531.0569 236525.5529\n",
      "Education_group_Secondary        -2.3484 120679.9241  -0.0000 1.0000 -236530.6532 236525.9565\n",
      "=============================================================================================\n",
      "\n"
     ]
    }
   ],
   "source": [
    "import statsmodels.api as sm\n",
    "logit_model=sm.Logit(y_train,X_train)\n",
    "result=logit_model.fit()\n",
    "print(result.summary2())"
   ]
  },
  {
   "cell_type": "markdown",
   "metadata": {},
   "source": [
    "#### Q11.3 Score the validation data (predict) using the model. Produce a confusion table and an ROC curve for the scored validation data."
   ]
  },
  {
   "cell_type": "code",
   "execution_count": 90,
   "metadata": {},
   "outputs": [
    {
     "name": "stdout",
     "output_type": "stream",
     "text": [
      "Classification Report Using Logistic Regression \n",
      "\n",
      "               precision    recall  f1-score   support\n",
      "\n",
      "           0       0.88      0.93      0.90    137537\n",
      "           1       0.71      0.58      0.64     42930\n",
      "\n",
      "    accuracy                           0.84    180467\n",
      "   macro avg       0.79      0.75      0.77    180467\n",
      "weighted avg       0.84      0.84      0.84    180467\n",
      "\n",
      "Confusion Matrix Using Logistic Regression \n",
      " [[127237  10300]\n",
      " [ 17993  24937]]\n"
     ]
    },
    {
     "data": {
      "image/png": "[encoded data removed]",
      "text/plain": [
       "<Figure size 842.4x595.44 with 2 Axes>"
      ]
     },
     "metadata": {},
     "output_type": "display_data"
    }
   ],
   "source": [
    "#validation scores and accuracy results all \n",
    "print(\"Classification Report Using Logistic Regression \\n\\n\",classification_report(y_test, ypred_lr))\n",
    "#confusion matrix\n",
    "cm_lr = confusion_matrix(y_test, ypred_lr)\n",
    "print(\"Confusion Matrix Using Logistic Regression \\n\", cm_lr)\n",
    "f = sns.heatmap(cm_lr, annot=True, fmt='d', cmap = 'Blues' ) "
   ]
  },
  {
   "cell_type": "code",
   "execution_count": 91,
   "metadata": {},
   "outputs": [
    {
     "data": {
      "image/png": "[encoded data removed]",
      "text/plain": [
       "<Figure size 842.4x595.44 with 1 Axes>"
      ]
     },
     "metadata": {},
     "output_type": "display_data"
    }
   ],
   "source": [
    "from sklearn.metrics import roc_auc_score\n",
    "from sklearn.metrics import roc_curve\n",
    "logit_roc_auc = roc_auc_score(y_test, LR.predict(X_test))\n",
    "fpr, tpr, thresholds = roc_curve(y_test, LR.predict_proba(X_test)[:,1])\n",
    "plt.figure()\n",
    "plt.plot(fpr, tpr, label='Logistic Regression (area = %0.2f)' % logit_roc_auc)\n",
    "plt.plot([0, 1], [0, 1],'r--')\n",
    "plt.xlim([0.0, 1.0])\n",
    "plt.ylim([0.0, 1.05])\n",
    "plt.xlabel('False Positive Rate')\n",
    "plt.ylabel('True Positive Rate')\n",
    "plt.title('Receiver operating characteristic')\n",
    "plt.legend(loc=\"lower right\")\n",
    "plt.savefig('Log_ROC')\n",
    "plt.show()"
   ]
  },
  {
   "cell_type": "markdown",
   "metadata": {},
   "source": [
    "#### Q11.4 From the confusion table calculate the following metrics: accuracy, misclassification rate, true positive rate, false positive rate, specificity, precision, and prevalence."
   ]
  },
  {
   "cell_type": "markdown",
   "metadata": {},
   "source": [
    "Already done above "
   ]
  },
  {
   "cell_type": "markdown",
   "metadata": {},
   "source": [
    "### Q12: Tree Model (CART)\n",
    "\n",
    "#### Q12.1 Build a model to predict income > $50K using a classification tree and a random forest with the same training and validation data used for the naïve Bayes and logistic regression models."
   ]
  },
  {
   "cell_type": "code",
   "execution_count": 92,
   "metadata": {},
   "outputs": [
    {
     "data": {
      "text/plain": [
       "array([0, 0, 0, ..., 0, 0, 0])"
      ]
     },
     "execution_count": 92,
     "metadata": {},
     "output_type": "execute_result"
    }
   ],
   "source": [
    "from sklearn.tree import DecisionTreeClassifier\n",
    "\n",
    "\n",
    "d_tree = DecisionTreeClassifier(random_state=0, max_depth=2).fit(X_train,y_train)\n",
    "ypred_dt = d_tree.predict(X_test)\n",
    "ypred_dt"
   ]
  },
  {
   "cell_type": "markdown",
   "metadata": {},
   "source": [
    "#### Q12.2 Which variables are useful for decision rules?"
   ]
  },
  {
   "cell_type": "code",
   "execution_count": 93,
   "metadata": {},
   "outputs": [
    {
     "name": "stdout",
     "output_type": "stream",
     "text": [
      "feat importance = [0.         0.         0.02165448 0.         0.         0.\n",
      " 0.         0.         0.         0.         0.         0.\n",
      " 0.07408176 0.         0.         0.         0.         0.\n",
      " 0.         0.         0.         0.         0.         0.\n",
      " 0.         0.         0.         0.         0.         0.\n",
      " 0.         0.         0.         0.         0.         0.\n",
      " 0.         0.         0.         0.         0.         0.\n",
      " 0.         0.         0.         0.         0.         0.\n",
      " 0.        ]\n"
     ]
    }
   ],
   "source": [
    "from sklearn import tree\n",
    "from io import StringIO\n",
    "from sklearn.tree import export_graphviz\n",
    "import graphviz\n",
    "feat_importance = d_tree.tree_.compute_feature_importances(normalize=False)\n",
    "print(\"feat importance = \" + str(feat_importance))\n",
    "out = StringIO()\n",
    "out=export_graphviz(d_tree)\n"
   ]
  },
  {
   "cell_type": "code",
   "execution_count": 94,
   "metadata": {},
   "outputs": [
    {
     "data": {
      "image/png": "[encoded data removed]",
      "text/plain": [
       "<Figure size 1800x1440 with 1 Axes>"
      ]
     },
     "metadata": {},
     "output_type": "display_data"
    }
   ],
   "source": [
    "\n",
    "fig = plt.figure(figsize=(25,20))\n",
    "tree.plot_tree(d_tree,\n",
    "               feature_names = x_names, \n",
    "               class_names = [\"<=50k\",\">50k\"],\n",
    "               filled = True);\n",
    "fig.savefig('imagename.png')"
   ]
  },
  {
   "cell_type": "markdown",
   "metadata": {},
   "source": [
    "#### Q12.4 Score the validation data (predict) using the model. Produce a confusion table and an ROC curve for the scored validation data.\n"
   ]
  },
  {
   "cell_type": "code",
   "execution_count": 95,
   "metadata": {},
   "outputs": [
    {
     "data": {
      "image/png": "[encoded data removed]",
      "text/plain": [
       "<Figure size 842.4x595.44 with 1 Axes>"
      ]
     },
     "metadata": {},
     "output_type": "display_data"
    }
   ],
   "source": [
    "from sklearn.metrics import roc_auc_score\n",
    "from sklearn.metrics import roc_curve\n",
    "dt_roc_auc = roc_auc_score(y_test, d_tree.predict(X_test))\n",
    "fpr, tpr, thresholds = roc_curve(y_test, d_tree.predict_proba(X_test)[:,1])\n",
    "plt.figure()\n",
    "plt.plot(fpr, tpr, label='Decision tree (area = %0.2f)' % dt_roc_auc)\n",
    "plt.plot([0, 1], [0, 1],'r--')\n",
    "plt.xlim([0.0, 1.0])\n",
    "plt.ylim([0.0, 1.05])\n",
    "plt.xlabel('False Positive Rate')\n",
    "plt.ylabel('True Positive Rate')\n",
    "plt.title('Receiver operating characteristic')\n",
    "plt.legend(loc=\"lower right\")\n",
    "plt.savefig('DTREE_ROC')\n",
    "plt.show()"
   ]
  },
  {
   "cell_type": "markdown",
   "metadata": {},
   "source": [
    "#### Q12.5 From the confusion table calculate the following metrics: accuracy, misclassification rate, true positive rate, false positive rate, specificity, precision, and prevalence."
   ]
  },
  {
   "cell_type": "code",
   "execution_count": 96,
   "metadata": {},
   "outputs": [
    {
     "name": "stdout",
     "output_type": "stream",
     "text": [
      "Classification Report Using Logistic Regression \n",
      "\n",
      "               precision    recall  f1-score   support\n",
      "\n",
      "           0       0.81      0.97      0.88    137537\n",
      "           1       0.73      0.26      0.38     42930\n",
      "\n",
      "    accuracy                           0.80    180467\n",
      "   macro avg       0.77      0.61      0.63    180467\n",
      "weighted avg       0.79      0.80      0.76    180467\n",
      "\n",
      "Confusion Matrix Using Logistic Regression \n",
      " [[133476   4061]\n",
      " [ 31954  10976]]\n"
     ]
    },
    {
     "data": {
      "image/png": "[encoded data removed]",
      "text/plain": [
       "<Figure size 842.4x595.44 with 2 Axes>"
      ]
     },
     "metadata": {},
     "output_type": "display_data"
    }
   ],
   "source": [
    "#validation scores and accuracy results all \n",
    "print(\"Classification Report Using Logistic Regression \\n\\n\",classification_report(y_test, ypred_dt))\n",
    "#confusion matrix\n",
    "cm_dt = confusion_matrix(y_test, ypred_dt)\n",
    "print(\"Confusion Matrix Using Logistic Regression \\n\", cm_dt)\n",
    "f = sns.heatmap(cm_dt, annot=True, fmt='d', cmap = 'Blues' ) "
   ]
  },
  {
   "cell_type": "markdown",
   "metadata": {},
   "source": [
    "#### Random Forest"
   ]
  },
  {
   "cell_type": "code",
   "execution_count": 97,
   "metadata": {},
   "outputs": [
    {
     "name": "stderr",
     "output_type": "stream",
     "text": [
      "/Users/hanyhamdani/opt/anaconda3/lib/python3.7/site-packages/sklearn/ensemble/forest.py:245: FutureWarning: The default value of n_estimators will change from 10 in version 0.20 to 100 in 0.22.\n",
      "  \"10 in version 0.20 to 100 in 0.22.\", FutureWarning)\n",
      "/Users/hanyhamdani/opt/anaconda3/lib/python3.7/site-packages/ipykernel_launcher.py:3: DataConversionWarning: A column-vector y was passed when a 1d array was expected. Please change the shape of y to (n_samples,), for example using ravel().\n",
      "  This is separate from the ipykernel package so we can avoid doing imports until\n"
     ]
    },
    {
     "data": {
      "text/plain": [
       "array([0, 0, 0, ..., 0, 0, 0])"
      ]
     },
     "execution_count": 97,
     "metadata": {},
     "output_type": "execute_result"
    }
   ],
   "source": [
    "from sklearn.ensemble import RandomForestClassifier\n",
    "\n",
    "rf = RandomForestClassifier(max_depth=2, random_state=0).fit(X_train, y_train)\n",
    "ypred_rf = rf.predict(X_test)\n",
    "ypred_rf"
   ]
  },
  {
   "cell_type": "code",
   "execution_count": 98,
   "metadata": {},
   "outputs": [
    {
     "data": {
      "image/png": "[encoded data removed]",
      "text/plain": [
       "<Figure size 842.4x595.44 with 1 Axes>"
      ]
     },
     "metadata": {},
     "output_type": "display_data"
    }
   ],
   "source": [
    "from sklearn.metrics import roc_auc_score\n",
    "from sklearn.metrics import roc_curve\n",
    "rf_roc_auc = roc_auc_score(y_test, rf.predict(X_test))\n",
    "fpr, tpr, thresholds = roc_curve(y_test, rf.predict_proba(X_test)[:,1])\n",
    "plt.figure()\n",
    "plt.plot(fpr, tpr, label='Random Forest (area = %0.2f)' % rf_roc_auc)\n",
    "plt.plot([0, 1], [0, 1],'r--')\n",
    "plt.xlim([0.0, 1.0])\n",
    "plt.ylim([0.0, 1.05])\n",
    "plt.xlabel('False Positive Rate')\n",
    "plt.ylabel('True Positive Rate')\n",
    "plt.title('Receiver operating characteristic')\n",
    "plt.legend(loc=\"lower right\")\n",
    "plt.savefig('RF_ROC')\n",
    "plt.show()"
   ]
  },
  {
   "cell_type": "code",
   "execution_count": 99,
   "metadata": {},
   "outputs": [
    {
     "name": "stdout",
     "output_type": "stream",
     "text": [
      "Classification Report Using Random Forest \n",
      "\n",
      "               precision    recall  f1-score   support\n",
      "\n",
      "           0       0.77      1.00      0.87    137537\n",
      "           1       0.83      0.05      0.10     42930\n",
      "\n",
      "    accuracy                           0.77    180467\n",
      "   macro avg       0.80      0.53      0.49    180467\n",
      "weighted avg       0.79      0.77      0.69    180467\n",
      "\n",
      "Confusion Matrix Using Logistic Regression \n",
      " [[137069    468]\n",
      " [ 40575   2355]]\n"
     ]
    },
    {
     "data": {
      "image/png": "[encoded data removed]",
      "text/plain": [
       "<Figure size 842.4x595.44 with 2 Axes>"
      ]
     },
     "metadata": {},
     "output_type": "display_data"
    }
   ],
   "source": [
    "#validation scores and accuracy results all \n",
    "print(\"Classification Report Using Random Forest \\n\\n\",classification_report(y_test, ypred_rf))\n",
    "#confusion matrix\n",
    "cm_rf = confusion_matrix(y_test, ypred_rf)\n",
    "print(\"Confusion Matrix Using Logistic Regression \\n\", cm_rf)\n",
    "f = sns.heatmap(cm_rf, annot=True, fmt='d', cmap = 'Blues' ) "
   ]
  },
  {
   "cell_type": "markdown",
   "metadata": {},
   "source": [
    "#### Model Comparison"
   ]
  },
  {
   "cell_type": "code",
   "execution_count": 100,
   "metadata": {},
   "outputs": [
    {
     "name": "stderr",
     "output_type": "stream",
     "text": [
      "/Users/hanyhamdani/opt/anaconda3/lib/python3.7/site-packages/sklearn/utils/validation.py:724: DataConversionWarning: A column-vector y was passed when a 1d array was expected. Please change the shape of y to (n_samples, ), for example using ravel().\n",
      "  y = column_or_1d(y, warn=True)\n",
      "/Users/hanyhamdani/opt/anaconda3/lib/python3.7/site-packages/sklearn/utils/validation.py:724: DataConversionWarning: A column-vector y was passed when a 1d array was expected. Please change the shape of y to (n_samples, ), for example using ravel().\n",
      "  y = column_or_1d(y, warn=True)\n",
      "/Users/hanyhamdani/opt/anaconda3/lib/python3.7/site-packages/sklearn/utils/validation.py:724: DataConversionWarning: A column-vector y was passed when a 1d array was expected. Please change the shape of y to (n_samples, ), for example using ravel().\n",
      "  y = column_or_1d(y, warn=True)\n",
      "/Users/hanyhamdani/opt/anaconda3/lib/python3.7/site-packages/sklearn/utils/validation.py:724: DataConversionWarning: A column-vector y was passed when a 1d array was expected. Please change the shape of y to (n_samples, ), for example using ravel().\n",
      "  y = column_or_1d(y, warn=True)\n",
      "/Users/hanyhamdani/opt/anaconda3/lib/python3.7/site-packages/sklearn/utils/validation.py:724: DataConversionWarning: A column-vector y was passed when a 1d array was expected. Please change the shape of y to (n_samples, ), for example using ravel().\n",
      "  y = column_or_1d(y, warn=True)\n",
      "/Users/hanyhamdani/opt/anaconda3/lib/python3.7/site-packages/sklearn/utils/validation.py:724: DataConversionWarning: A column-vector y was passed when a 1d array was expected. Please change the shape of y to (n_samples, ), for example using ravel().\n",
      "  y = column_or_1d(y, warn=True)\n",
      "/Users/hanyhamdani/opt/anaconda3/lib/python3.7/site-packages/sklearn/utils/validation.py:724: DataConversionWarning: A column-vector y was passed when a 1d array was expected. Please change the shape of y to (n_samples, ), for example using ravel().\n",
      "  y = column_or_1d(y, warn=True)\n",
      "/Users/hanyhamdani/opt/anaconda3/lib/python3.7/site-packages/sklearn/utils/validation.py:724: DataConversionWarning: A column-vector y was passed when a 1d array was expected. Please change the shape of y to (n_samples, ), for example using ravel().\n",
      "  y = column_or_1d(y, warn=True)\n",
      "/Users/hanyhamdani/opt/anaconda3/lib/python3.7/site-packages/sklearn/utils/validation.py:724: DataConversionWarning: A column-vector y was passed when a 1d array was expected. Please change the shape of y to (n_samples, ), for example using ravel().\n",
      "  y = column_or_1d(y, warn=True)\n",
      "/Users/hanyhamdani/opt/anaconda3/lib/python3.7/site-packages/sklearn/utils/validation.py:724: DataConversionWarning: A column-vector y was passed when a 1d array was expected. Please change the shape of y to (n_samples, ), for example using ravel().\n",
      "  y = column_or_1d(y, warn=True)\n"
     ]
    },
    {
     "name": "stdout",
     "output_type": "stream",
     "text": [
      "LR: 0.841940 (0.001367)\n",
      "CART: 0.965606 (0.000688)\n"
     ]
    },
    {
     "name": "stderr",
     "output_type": "stream",
     "text": [
      "/Users/hanyhamdani/opt/anaconda3/lib/python3.7/site-packages/sklearn/model_selection/_validation.py:516: DataConversionWarning: A column-vector y was passed when a 1d array was expected. Please change the shape of y to (n_samples,), for example using ravel().\n",
      "  estimator.fit(X_train, y_train, **fit_params)\n",
      "/Users/hanyhamdani/opt/anaconda3/lib/python3.7/site-packages/sklearn/model_selection/_validation.py:516: DataConversionWarning: A column-vector y was passed when a 1d array was expected. Please change the shape of y to (n_samples,), for example using ravel().\n",
      "  estimator.fit(X_train, y_train, **fit_params)\n",
      "/Users/hanyhamdani/opt/anaconda3/lib/python3.7/site-packages/sklearn/model_selection/_validation.py:516: DataConversionWarning: A column-vector y was passed when a 1d array was expected. Please change the shape of y to (n_samples,), for example using ravel().\n",
      "  estimator.fit(X_train, y_train, **fit_params)\n",
      "/Users/hanyhamdani/opt/anaconda3/lib/python3.7/site-packages/sklearn/model_selection/_validation.py:516: DataConversionWarning: A column-vector y was passed when a 1d array was expected. Please change the shape of y to (n_samples,), for example using ravel().\n",
      "  estimator.fit(X_train, y_train, **fit_params)\n",
      "/Users/hanyhamdani/opt/anaconda3/lib/python3.7/site-packages/sklearn/model_selection/_validation.py:516: DataConversionWarning: A column-vector y was passed when a 1d array was expected. Please change the shape of y to (n_samples,), for example using ravel().\n",
      "  estimator.fit(X_train, y_train, **fit_params)\n",
      "/Users/hanyhamdani/opt/anaconda3/lib/python3.7/site-packages/sklearn/model_selection/_validation.py:516: DataConversionWarning: A column-vector y was passed when a 1d array was expected. Please change the shape of y to (n_samples,), for example using ravel().\n",
      "  estimator.fit(X_train, y_train, **fit_params)\n",
      "/Users/hanyhamdani/opt/anaconda3/lib/python3.7/site-packages/sklearn/model_selection/_validation.py:516: DataConversionWarning: A column-vector y was passed when a 1d array was expected. Please change the shape of y to (n_samples,), for example using ravel().\n",
      "  estimator.fit(X_train, y_train, **fit_params)\n",
      "/Users/hanyhamdani/opt/anaconda3/lib/python3.7/site-packages/sklearn/model_selection/_validation.py:516: DataConversionWarning: A column-vector y was passed when a 1d array was expected. Please change the shape of y to (n_samples,), for example using ravel().\n",
      "  estimator.fit(X_train, y_train, **fit_params)\n",
      "/Users/hanyhamdani/opt/anaconda3/lib/python3.7/site-packages/sklearn/model_selection/_validation.py:516: DataConversionWarning: A column-vector y was passed when a 1d array was expected. Please change the shape of y to (n_samples,), for example using ravel().\n",
      "  estimator.fit(X_train, y_train, **fit_params)\n",
      "/Users/hanyhamdani/opt/anaconda3/lib/python3.7/site-packages/sklearn/model_selection/_validation.py:516: DataConversionWarning: A column-vector y was passed when a 1d array was expected. Please change the shape of y to (n_samples,), for example using ravel().\n",
      "  estimator.fit(X_train, y_train, **fit_params)\n"
     ]
    },
    {
     "name": "stdout",
     "output_type": "stream",
     "text": [
      "RForest: 0.965437 (0.000734)\n"
     ]
    },
    {
     "name": "stderr",
     "output_type": "stream",
     "text": [
      "/Users/hanyhamdani/opt/anaconda3/lib/python3.7/site-packages/sklearn/utils/validation.py:724: DataConversionWarning: A column-vector y was passed when a 1d array was expected. Please change the shape of y to (n_samples, ), for example using ravel().\n",
      "  y = column_or_1d(y, warn=True)\n",
      "/Users/hanyhamdani/opt/anaconda3/lib/python3.7/site-packages/sklearn/utils/validation.py:724: DataConversionWarning: A column-vector y was passed when a 1d array was expected. Please change the shape of y to (n_samples, ), for example using ravel().\n",
      "  y = column_or_1d(y, warn=True)\n",
      "/Users/hanyhamdani/opt/anaconda3/lib/python3.7/site-packages/sklearn/utils/validation.py:724: DataConversionWarning: A column-vector y was passed when a 1d array was expected. Please change the shape of y to (n_samples, ), for example using ravel().\n",
      "  y = column_or_1d(y, warn=True)\n",
      "/Users/hanyhamdani/opt/anaconda3/lib/python3.7/site-packages/sklearn/utils/validation.py:724: DataConversionWarning: A column-vector y was passed when a 1d array was expected. Please change the shape of y to (n_samples, ), for example using ravel().\n",
      "  y = column_or_1d(y, warn=True)\n",
      "/Users/hanyhamdani/opt/anaconda3/lib/python3.7/site-packages/sklearn/utils/validation.py:724: DataConversionWarning: A column-vector y was passed when a 1d array was expected. Please change the shape of y to (n_samples, ), for example using ravel().\n",
      "  y = column_or_1d(y, warn=True)\n",
      "/Users/hanyhamdani/opt/anaconda3/lib/python3.7/site-packages/sklearn/utils/validation.py:724: DataConversionWarning: A column-vector y was passed when a 1d array was expected. Please change the shape of y to (n_samples, ), for example using ravel().\n",
      "  y = column_or_1d(y, warn=True)\n",
      "/Users/hanyhamdani/opt/anaconda3/lib/python3.7/site-packages/sklearn/utils/validation.py:724: DataConversionWarning: A column-vector y was passed when a 1d array was expected. Please change the shape of y to (n_samples, ), for example using ravel().\n",
      "  y = column_or_1d(y, warn=True)\n",
      "/Users/hanyhamdani/opt/anaconda3/lib/python3.7/site-packages/sklearn/utils/validation.py:724: DataConversionWarning: A column-vector y was passed when a 1d array was expected. Please change the shape of y to (n_samples, ), for example using ravel().\n",
      "  y = column_or_1d(y, warn=True)\n",
      "/Users/hanyhamdani/opt/anaconda3/lib/python3.7/site-packages/sklearn/utils/validation.py:724: DataConversionWarning: A column-vector y was passed when a 1d array was expected. Please change the shape of y to (n_samples, ), for example using ravel().\n",
      "  y = column_or_1d(y, warn=True)\n",
      "/Users/hanyhamdani/opt/anaconda3/lib/python3.7/site-packages/sklearn/utils/validation.py:724: DataConversionWarning: A column-vector y was passed when a 1d array was expected. Please change the shape of y to (n_samples, ), for example using ravel().\n",
      "  y = column_or_1d(y, warn=True)\n"
     ]
    },
    {
     "name": "stdout",
     "output_type": "stream",
     "text": [
      "NB: 0.594768 (0.003185)\n"
     ]
    },
    {
     "data": {
      "image/png": "[encoded data removed]",
      "text/plain": [
       "<Figure size 842.4x595.44 with 1 Axes>"
      ]
     },
     "metadata": {},
     "output_type": "display_data"
    }
   ],
   "source": [
    "import warnings\n",
    "warnings.simplefilter(action='ignore', category=FutureWarning)\n",
    "\n",
    "from sklearn.naive_bayes import GaussianNB\n",
    "from sklearn import model_selection\n",
    "\n",
    "# prepare configuration for cross validation test harness\n",
    "seed = 7\n",
    "# prepare models\n",
    "models = []\n",
    "models.append(('LR', LogisticRegression()))\n",
    "models.append(('CART', DecisionTreeClassifier()))\n",
    "models.append(('RForest', RandomForestClassifier()))\n",
    "models.append(('NB', GaussianNB()))\n",
    "# evaluate each model in turn\n",
    "results = []\n",
    "names = []\n",
    "scoring = 'accuracy'\n",
    "for name, model in models:\n",
    "    kfold = model_selection.KFold(n_splits=10, random_state=seed)\n",
    "    #try passing whole data instead of X and y for testing\n",
    "    cv_results = model_selection.cross_val_score(model, X_train, y_train, cv=kfold, scoring=scoring)\n",
    "    results.append(cv_results)\n",
    "    names.append(name)\n",
    "    msg = \"%s: %f (%f)\" % (name, cv_results.mean(), cv_results.std())\n",
    "    print(msg)\n",
    "# boxplot algorithm comparison\n",
    "fig = plt.figure()\n",
    "fig.suptitle('Algorithm Comparison')\n",
    "ax = fig.add_subplot(111)\n",
    "plt.boxplot(results)\n",
    "ax.set_xticklabels(names)\n",
    "plt.show()"
   ]
  },
  {
   "cell_type": "markdown",
   "metadata": {},
   "source": [
    "### The best model for same sample data (X_train and Y_train)\n",
    "\n",
    "$Logistic Regression: 84.4 $ %(0.001112)<br>\n",
    "$CART: 96.56% $%(0.000833)<br>\n",
    "$Random Forest: 96.56 $% (0.000876)<br>\n",
    "$Naive Bayes: 68.13 $%(0.002680)<br>\n",
    "\n",
    "Dont take this one for model results comparison, the overall data shown below is the one to look for.\n",
    "\n",
    "Also, check box plot for better understanding."
   ]
  },
  {
   "cell_type": "markdown",
   "metadata": {},
   "source": [
    "### Best Model for overall Data\n",
    "\n",
    "Try Rerun of comparison with whole data (X,y) instead of X_train, y_train, results could be different\n",
    "for whole datasets, LR wins with Rf second and CART/DTree 3rd.<br>\n",
    "LR: 0.842639 (0.005621)<br>\n",
    "CART: 0.797885 (0.005588)<br>\n",
    "RForest: 0.818764 (0.005474)<br>\n",
    "NB: 0.674619 (0.006823)\n",
    "    "
   ]
  },
  {
   "cell_type": "markdown",
   "metadata": {},
   "source": [
    "### Ideal Customer Calculations"
   ]
  },
  {
   "cell_type": "code",
   "execution_count": 102,
   "metadata": {},
   "outputs": [],
   "source": [
    "data_with_pred = X_test.copy()"
   ]
  },
  {
   "cell_type": "code",
   "execution_count": 103,
   "metadata": {},
   "outputs": [
    {
     "data": {
      "text/html": [
       "<div>\n",
       "<style scoped>\n",
       "    .dataframe tbody tr th:only-of-type {\n",
       "        vertical-align: middle;\n",
       "    }\n",
       "\n",
       "    .dataframe tbody tr th {\n",
       "        vertical-align: top;\n",
       "    }\n",
       "\n",
       "    .dataframe thead th {\n",
       "        text-align: right;\n",
       "    }\n",
       "</style>\n",
       "<table border=\"1\" class=\"dataframe\">\n",
       "  <thead>\n",
       "    <tr style=\"text-align: right;\">\n",
       "      <th></th>\n",
       "      <th>Age</th>\n",
       "      <th>Hours_per_Week</th>\n",
       "      <th>NetCapital</th>\n",
       "      <th>WorkClass_ Federal-gov</th>\n",
       "      <th>WorkClass_ Local-gov</th>\n",
       "      <th>WorkClass_ Never-worked</th>\n",
       "      <th>WorkClass_ Private</th>\n",
       "      <th>WorkClass_ Self-emp-inc</th>\n",
       "      <th>WorkClass_ Self-emp-not-inc</th>\n",
       "      <th>WorkClass_ State-gov</th>\n",
       "      <th>...</th>\n",
       "      <th>Native_Country_Others</th>\n",
       "      <th>Education_group_ High-Secondary</th>\n",
       "      <th>Education_group_Bachelors</th>\n",
       "      <th>Education_group_Doctorate</th>\n",
       "      <th>Education_group_High-Secondary</th>\n",
       "      <th>Education_group_Masters</th>\n",
       "      <th>Education_group_Primary</th>\n",
       "      <th>Education_group_Secondary</th>\n",
       "      <th>Actual_Y</th>\n",
       "      <th>Predicted</th>\n",
       "    </tr>\n",
       "  </thead>\n",
       "  <tbody>\n",
       "    <tr>\n",
       "      <th>21011</th>\n",
       "      <td>21</td>\n",
       "      <td>40.0</td>\n",
       "      <td>0</td>\n",
       "      <td>0</td>\n",
       "      <td>0</td>\n",
       "      <td>0</td>\n",
       "      <td>1</td>\n",
       "      <td>0</td>\n",
       "      <td>0</td>\n",
       "      <td>0</td>\n",
       "      <td>...</td>\n",
       "      <td>0</td>\n",
       "      <td>0</td>\n",
       "      <td>0</td>\n",
       "      <td>0</td>\n",
       "      <td>0</td>\n",
       "      <td>0</td>\n",
       "      <td>0</td>\n",
       "      <td>1</td>\n",
       "      <td>0</td>\n",
       "      <td>0</td>\n",
       "    </tr>\n",
       "    <tr>\n",
       "      <th>11759</th>\n",
       "      <td>56</td>\n",
       "      <td>40.0</td>\n",
       "      <td>0</td>\n",
       "      <td>0</td>\n",
       "      <td>0</td>\n",
       "      <td>0</td>\n",
       "      <td>1</td>\n",
       "      <td>0</td>\n",
       "      <td>0</td>\n",
       "      <td>0</td>\n",
       "      <td>...</td>\n",
       "      <td>0</td>\n",
       "      <td>0</td>\n",
       "      <td>0</td>\n",
       "      <td>0</td>\n",
       "      <td>1</td>\n",
       "      <td>0</td>\n",
       "      <td>0</td>\n",
       "      <td>0</td>\n",
       "      <td>0</td>\n",
       "      <td>0</td>\n",
       "    </tr>\n",
       "    <tr>\n",
       "      <th>14710</th>\n",
       "      <td>23</td>\n",
       "      <td>40.0</td>\n",
       "      <td>0</td>\n",
       "      <td>0</td>\n",
       "      <td>0</td>\n",
       "      <td>0</td>\n",
       "      <td>0</td>\n",
       "      <td>0</td>\n",
       "      <td>1</td>\n",
       "      <td>0</td>\n",
       "      <td>...</td>\n",
       "      <td>0</td>\n",
       "      <td>0</td>\n",
       "      <td>0</td>\n",
       "      <td>0</td>\n",
       "      <td>1</td>\n",
       "      <td>0</td>\n",
       "      <td>0</td>\n",
       "      <td>0</td>\n",
       "      <td>0</td>\n",
       "      <td>0</td>\n",
       "    </tr>\n",
       "    <tr>\n",
       "      <th>1950</th>\n",
       "      <td>44</td>\n",
       "      <td>40.0</td>\n",
       "      <td>0</td>\n",
       "      <td>0</td>\n",
       "      <td>0</td>\n",
       "      <td>0</td>\n",
       "      <td>0</td>\n",
       "      <td>0</td>\n",
       "      <td>1</td>\n",
       "      <td>0</td>\n",
       "      <td>...</td>\n",
       "      <td>0</td>\n",
       "      <td>0</td>\n",
       "      <td>1</td>\n",
       "      <td>0</td>\n",
       "      <td>0</td>\n",
       "      <td>0</td>\n",
       "      <td>0</td>\n",
       "      <td>0</td>\n",
       "      <td>0</td>\n",
       "      <td>1</td>\n",
       "    </tr>\n",
       "    <tr>\n",
       "      <th>2825</th>\n",
       "      <td>38</td>\n",
       "      <td>55.0</td>\n",
       "      <td>0</td>\n",
       "      <td>0</td>\n",
       "      <td>0</td>\n",
       "      <td>0</td>\n",
       "      <td>1</td>\n",
       "      <td>0</td>\n",
       "      <td>0</td>\n",
       "      <td>0</td>\n",
       "      <td>...</td>\n",
       "      <td>0</td>\n",
       "      <td>0</td>\n",
       "      <td>0</td>\n",
       "      <td>0</td>\n",
       "      <td>1</td>\n",
       "      <td>0</td>\n",
       "      <td>0</td>\n",
       "      <td>0</td>\n",
       "      <td>0</td>\n",
       "      <td>1</td>\n",
       "    </tr>\n",
       "  </tbody>\n",
       "</table>\n",
       "<p>5 rows × 51 columns</p>\n",
       "</div>"
      ],
      "text/plain": [
       "       Age  Hours_per_Week  NetCapital  WorkClass_ Federal-gov  \\\n",
       "21011   21            40.0           0                       0   \n",
       "11759   56            40.0           0                       0   \n",
       "14710   23            40.0           0                       0   \n",
       "1950    44            40.0           0                       0   \n",
       "2825    38            55.0           0                       0   \n",
       "\n",
       "       WorkClass_ Local-gov  WorkClass_ Never-worked  WorkClass_ Private  \\\n",
       "21011                     0                        0                   1   \n",
       "11759                     0                        0                   1   \n",
       "14710                     0                        0                   0   \n",
       "1950                      0                        0                   0   \n",
       "2825                      0                        0                   1   \n",
       "\n",
       "       WorkClass_ Self-emp-inc  WorkClass_ Self-emp-not-inc  \\\n",
       "21011                        0                            0   \n",
       "11759                        0                            0   \n",
       "14710                        0                            1   \n",
       "1950                         0                            1   \n",
       "2825                         0                            0   \n",
       "\n",
       "       WorkClass_ State-gov  ...  Native_Country_Others  \\\n",
       "21011                     0  ...                      0   \n",
       "11759                     0  ...                      0   \n",
       "14710                     0  ...                      0   \n",
       "1950                      0  ...                      0   \n",
       "2825                      0  ...                      0   \n",
       "\n",
       "       Education_group_ High-Secondary  Education_group_Bachelors  \\\n",
       "21011                                0                          0   \n",
       "11759                                0                          0   \n",
       "14710                                0                          0   \n",
       "1950                                 0                          1   \n",
       "2825                                 0                          0   \n",
       "\n",
       "       Education_group_Doctorate  Education_group_High-Secondary  \\\n",
       "21011                          0                               0   \n",
       "11759                          0                               1   \n",
       "14710                          0                               1   \n",
       "1950                           0                               0   \n",
       "2825                           0                               1   \n",
       "\n",
       "       Education_group_Masters  Education_group_Primary  \\\n",
       "21011                        0                        0   \n",
       "11759                        0                        0   \n",
       "14710                        0                        0   \n",
       "1950                         0                        0   \n",
       "2825                         0                        0   \n",
       "\n",
       "       Education_group_Secondary  Actual_Y  Predicted  \n",
       "21011                          1         0          0  \n",
       "11759                          0         0          0  \n",
       "14710                          0         0          0  \n",
       "1950                           0         0          1  \n",
       "2825                           0         0          1  \n",
       "\n",
       "[5 rows x 51 columns]"
      ]
     },
     "execution_count": 103,
     "metadata": {},
     "output_type": "execute_result"
    }
   ],
   "source": [
    "data_with_pred['Actual_Y'] = y_test\n",
    "data_with_pred['Predicted'] = ypred_lr\n",
    "data_with_pred.head()"
   ]
  },
  {
   "cell_type": "code",
   "execution_count": 104,
   "metadata": {},
   "outputs": [
    {
     "data": {
      "text/html": [
       "<div>\n",
       "<style scoped>\n",
       "    .dataframe tbody tr th:only-of-type {\n",
       "        vertical-align: middle;\n",
       "    }\n",
       "\n",
       "    .dataframe tbody tr th {\n",
       "        vertical-align: top;\n",
       "    }\n",
       "\n",
       "    .dataframe thead th {\n",
       "        text-align: right;\n",
       "    }\n",
       "</style>\n",
       "<table border=\"1\" class=\"dataframe\">\n",
       "  <thead>\n",
       "    <tr style=\"text-align: right;\">\n",
       "      <th></th>\n",
       "      <th>Age</th>\n",
       "      <th>Hours_per_Week</th>\n",
       "      <th>NetCapital</th>\n",
       "      <th>WorkClass_ Federal-gov</th>\n",
       "      <th>WorkClass_ Local-gov</th>\n",
       "      <th>WorkClass_ Never-worked</th>\n",
       "      <th>WorkClass_ Private</th>\n",
       "      <th>WorkClass_ Self-emp-inc</th>\n",
       "      <th>WorkClass_ Self-emp-not-inc</th>\n",
       "      <th>WorkClass_ State-gov</th>\n",
       "      <th>...</th>\n",
       "      <th>Native_Country_Others</th>\n",
       "      <th>Education_group_ High-Secondary</th>\n",
       "      <th>Education_group_Bachelors</th>\n",
       "      <th>Education_group_Doctorate</th>\n",
       "      <th>Education_group_High-Secondary</th>\n",
       "      <th>Education_group_Masters</th>\n",
       "      <th>Education_group_Primary</th>\n",
       "      <th>Education_group_Secondary</th>\n",
       "      <th>Actual_Y</th>\n",
       "      <th>Predicted</th>\n",
       "    </tr>\n",
       "  </thead>\n",
       "  <tbody>\n",
       "    <tr>\n",
       "      <th>1950</th>\n",
       "      <td>44</td>\n",
       "      <td>40.0</td>\n",
       "      <td>0</td>\n",
       "      <td>0</td>\n",
       "      <td>0</td>\n",
       "      <td>0</td>\n",
       "      <td>0</td>\n",
       "      <td>0</td>\n",
       "      <td>1</td>\n",
       "      <td>0</td>\n",
       "      <td>...</td>\n",
       "      <td>0</td>\n",
       "      <td>0</td>\n",
       "      <td>1</td>\n",
       "      <td>0</td>\n",
       "      <td>0</td>\n",
       "      <td>0</td>\n",
       "      <td>0</td>\n",
       "      <td>0</td>\n",
       "      <td>0</td>\n",
       "      <td>1</td>\n",
       "    </tr>\n",
       "    <tr>\n",
       "      <th>2825</th>\n",
       "      <td>38</td>\n",
       "      <td>55.0</td>\n",
       "      <td>0</td>\n",
       "      <td>0</td>\n",
       "      <td>0</td>\n",
       "      <td>0</td>\n",
       "      <td>1</td>\n",
       "      <td>0</td>\n",
       "      <td>0</td>\n",
       "      <td>0</td>\n",
       "      <td>...</td>\n",
       "      <td>0</td>\n",
       "      <td>0</td>\n",
       "      <td>0</td>\n",
       "      <td>0</td>\n",
       "      <td>1</td>\n",
       "      <td>0</td>\n",
       "      <td>0</td>\n",
       "      <td>0</td>\n",
       "      <td>0</td>\n",
       "      <td>1</td>\n",
       "    </tr>\n",
       "    <tr>\n",
       "      <th>7214</th>\n",
       "      <td>39</td>\n",
       "      <td>40.0</td>\n",
       "      <td>0</td>\n",
       "      <td>0</td>\n",
       "      <td>0</td>\n",
       "      <td>0</td>\n",
       "      <td>0</td>\n",
       "      <td>0</td>\n",
       "      <td>0</td>\n",
       "      <td>1</td>\n",
       "      <td>...</td>\n",
       "      <td>0</td>\n",
       "      <td>0</td>\n",
       "      <td>1</td>\n",
       "      <td>0</td>\n",
       "      <td>0</td>\n",
       "      <td>0</td>\n",
       "      <td>0</td>\n",
       "      <td>0</td>\n",
       "      <td>1</td>\n",
       "      <td>0</td>\n",
       "    </tr>\n",
       "    <tr>\n",
       "      <th>18279</th>\n",
       "      <td>72</td>\n",
       "      <td>50.0</td>\n",
       "      <td>0</td>\n",
       "      <td>0</td>\n",
       "      <td>0</td>\n",
       "      <td>0</td>\n",
       "      <td>1</td>\n",
       "      <td>0</td>\n",
       "      <td>0</td>\n",
       "      <td>0</td>\n",
       "      <td>...</td>\n",
       "      <td>1</td>\n",
       "      <td>0</td>\n",
       "      <td>0</td>\n",
       "      <td>0</td>\n",
       "      <td>1</td>\n",
       "      <td>0</td>\n",
       "      <td>0</td>\n",
       "      <td>0</td>\n",
       "      <td>0</td>\n",
       "      <td>1</td>\n",
       "    </tr>\n",
       "    <tr>\n",
       "      <th>9396</th>\n",
       "      <td>54</td>\n",
       "      <td>55.0</td>\n",
       "      <td>1</td>\n",
       "      <td>0</td>\n",
       "      <td>0</td>\n",
       "      <td>0</td>\n",
       "      <td>1</td>\n",
       "      <td>0</td>\n",
       "      <td>0</td>\n",
       "      <td>0</td>\n",
       "      <td>...</td>\n",
       "      <td>0</td>\n",
       "      <td>0</td>\n",
       "      <td>0</td>\n",
       "      <td>0</td>\n",
       "      <td>1</td>\n",
       "      <td>0</td>\n",
       "      <td>0</td>\n",
       "      <td>0</td>\n",
       "      <td>0</td>\n",
       "      <td>1</td>\n",
       "    </tr>\n",
       "  </tbody>\n",
       "</table>\n",
       "<p>5 rows × 51 columns</p>\n",
       "</div>"
      ],
      "text/plain": [
       "       Age  Hours_per_Week  NetCapital  WorkClass_ Federal-gov  \\\n",
       "1950    44            40.0           0                       0   \n",
       "2825    38            55.0           0                       0   \n",
       "7214    39            40.0           0                       0   \n",
       "18279   72            50.0           0                       0   \n",
       "9396    54            55.0           1                       0   \n",
       "\n",
       "       WorkClass_ Local-gov  WorkClass_ Never-worked  WorkClass_ Private  \\\n",
       "1950                      0                        0                   0   \n",
       "2825                      0                        0                   1   \n",
       "7214                      0                        0                   0   \n",
       "18279                     0                        0                   1   \n",
       "9396                      0                        0                   1   \n",
       "\n",
       "       WorkClass_ Self-emp-inc  WorkClass_ Self-emp-not-inc  \\\n",
       "1950                         0                            1   \n",
       "2825                         0                            0   \n",
       "7214                         0                            0   \n",
       "18279                        0                            0   \n",
       "9396                         0                            0   \n",
       "\n",
       "       WorkClass_ State-gov  ...  Native_Country_Others  \\\n",
       "1950                      0  ...                      0   \n",
       "2825                      0  ...                      0   \n",
       "7214                      1  ...                      0   \n",
       "18279                     0  ...                      1   \n",
       "9396                      0  ...                      0   \n",
       "\n",
       "       Education_group_ High-Secondary  Education_group_Bachelors  \\\n",
       "1950                                 0                          1   \n",
       "2825                                 0                          0   \n",
       "7214                                 0                          1   \n",
       "18279                                0                          0   \n",
       "9396                                 0                          0   \n",
       "\n",
       "       Education_group_Doctorate  Education_group_High-Secondary  \\\n",
       "1950                           0                               0   \n",
       "2825                           0                               1   \n",
       "7214                           0                               0   \n",
       "18279                          0                               1   \n",
       "9396                           0                               1   \n",
       "\n",
       "       Education_group_Masters  Education_group_Primary  \\\n",
       "1950                         0                        0   \n",
       "2825                         0                        0   \n",
       "7214                         0                        0   \n",
       "18279                        0                        0   \n",
       "9396                         0                        0   \n",
       "\n",
       "       Education_group_Secondary  Actual_Y  Predicted  \n",
       "1950                           0         0          1  \n",
       "2825                           0         0          1  \n",
       "7214                           0         1          0  \n",
       "18279                          0         0          1  \n",
       "9396                           0         0          1  \n",
       "\n",
       "[5 rows x 51 columns]"
      ]
     },
     "execution_count": 104,
     "metadata": {},
     "output_type": "execute_result"
    }
   ],
   "source": [
    "mismatched = data_with_pred[(data_with_pred.Actual_Y - data_with_pred.Predicted) != 0]\n",
    "mismatched.head()"
   ]
  },
  {
   "cell_type": "code",
   "execution_count": 117,
   "metadata": {},
   "outputs": [],
   "source": [
    "from math import exp\n",
    "def log_equation(z, beta):\n",
    "    result = 1 /(1+exp(-z * beta))\n",
    "    return result"
   ]
  },
  {
   "cell_type": "code",
   "execution_count": 118,
   "metadata": {},
   "outputs": [],
   "source": [
    "#coeff of best model\n",
    "coeff = LR.coef_\n",
    "intercept = LR.intercept_\n",
    "X_col = X.columns.to_list()"
   ]
  },
  {
   "cell_type": "code",
   "execution_count": 119,
   "metadata": {},
   "outputs": [
    {
     "data": {
      "text/html": [
       "<div>\n",
       "<style scoped>\n",
       "    .dataframe tbody tr th:only-of-type {\n",
       "        vertical-align: middle;\n",
       "    }\n",
       "\n",
       "    .dataframe tbody tr th {\n",
       "        vertical-align: top;\n",
       "    }\n",
       "\n",
       "    .dataframe thead th {\n",
       "        text-align: right;\n",
       "    }\n",
       "</style>\n",
       "<table border=\"1\" class=\"dataframe\">\n",
       "  <thead>\n",
       "    <tr style=\"text-align: right;\">\n",
       "      <th></th>\n",
       "      <th>Age</th>\n",
       "      <th>Hours_per_Week</th>\n",
       "      <th>NetCapital</th>\n",
       "      <th>WorkClass_ Federal-gov</th>\n",
       "      <th>WorkClass_ Local-gov</th>\n",
       "      <th>WorkClass_ Never-worked</th>\n",
       "      <th>WorkClass_ Private</th>\n",
       "      <th>WorkClass_ Self-emp-inc</th>\n",
       "      <th>WorkClass_ Self-emp-not-inc</th>\n",
       "      <th>WorkClass_ State-gov</th>\n",
       "      <th>...</th>\n",
       "      <th>Native_Country_ United-States</th>\n",
       "      <th>Native_Country_ Unknown</th>\n",
       "      <th>Native_Country_Others</th>\n",
       "      <th>Education_group_ High-Secondary</th>\n",
       "      <th>Education_group_Bachelors</th>\n",
       "      <th>Education_group_Doctorate</th>\n",
       "      <th>Education_group_High-Secondary</th>\n",
       "      <th>Education_group_Masters</th>\n",
       "      <th>Education_group_Primary</th>\n",
       "      <th>Education_group_Secondary</th>\n",
       "    </tr>\n",
       "  </thead>\n",
       "  <tbody>\n",
       "    <tr>\n",
       "      <th>0</th>\n",
       "      <td>0.026418</td>\n",
       "      <td>0.038852</td>\n",
       "      <td>1.496538</td>\n",
       "      <td>0.439672</td>\n",
       "      <td>-0.219566</td>\n",
       "      <td>-0.206547</td>\n",
       "      <td>-0.03095</td>\n",
       "      <td>0.311279</td>\n",
       "      <td>-0.367924</td>\n",
       "      <td>-0.382142</td>\n",
       "      <td>...</td>\n",
       "      <td>-0.258612</td>\n",
       "      <td>-0.678669</td>\n",
       "      <td>-0.486337</td>\n",
       "      <td>-0.167405</td>\n",
       "      <td>0.319064</td>\n",
       "      <td>1.2919</td>\n",
       "      <td>-0.515562</td>\n",
       "      <td>0.595034</td>\n",
       "      <td>-2.148122</td>\n",
       "      <td>-1.79989</td>\n",
       "    </tr>\n",
       "  </tbody>\n",
       "</table>\n",
       "<p>1 rows × 49 columns</p>\n",
       "</div>"
      ],
      "text/plain": [
       "        Age  Hours_per_Week  NetCapital  WorkClass_ Federal-gov  \\\n",
       "0  0.026418        0.038852    1.496538                0.439672   \n",
       "\n",
       "   WorkClass_ Local-gov  WorkClass_ Never-worked  WorkClass_ Private  \\\n",
       "0             -0.219566                -0.206547            -0.03095   \n",
       "\n",
       "   WorkClass_ Self-emp-inc  WorkClass_ Self-emp-not-inc  WorkClass_ State-gov  \\\n",
       "0                 0.311279                    -0.367924             -0.382142   \n",
       "\n",
       "   ...  Native_Country_ United-States  Native_Country_ Unknown  \\\n",
       "0  ...                      -0.258612                -0.678669   \n",
       "\n",
       "   Native_Country_Others  Education_group_ High-Secondary  \\\n",
       "0              -0.486337                        -0.167405   \n",
       "\n",
       "   Education_group_Bachelors  Education_group_Doctorate  \\\n",
       "0                   0.319064                     1.2919   \n",
       "\n",
       "   Education_group_High-Secondary  Education_group_Masters  \\\n",
       "0                       -0.515562                 0.595034   \n",
       "\n",
       "   Education_group_Primary  Education_group_Secondary  \n",
       "0                -2.148122                   -1.79989  \n",
       "\n",
       "[1 rows x 49 columns]"
      ]
     },
     "execution_count": 119,
     "metadata": {},
     "output_type": "execute_result"
    }
   ],
   "source": [
    "coeff_df = pd.DataFrame(coeff, columns =X_col)\n",
    "coeff_df"
   ]
  },
  {
   "cell_type": "code",
   "execution_count": 120,
   "metadata": {},
   "outputs": [
    {
     "data": {
      "text/plain": [
       "array([1])"
      ]
     },
     "execution_count": 120,
     "metadata": {},
     "output_type": "execute_result"
    }
   ],
   "source": [
    "LR.predict(coeff_df)"
   ]
  },
  {
   "cell_type": "markdown",
   "metadata": {},
   "source": [
    "### Top Variables for us are:\n",
    "\n",
    "   #### Net_Capital (1.4974) \n",
    "   #### Hours_per_Week (0.0389) \n",
    "   #### Age (0.0265)"
   ]
  },
  {
   "cell_type": "code",
   "execution_count": 121,
   "metadata": {},
   "outputs": [
    {
     "data": {
      "text/plain": [
       "(1.496537992290086, 0.038852224532057236, 0    0.026418\n",
       " Name: Age, dtype: float64)"
      ]
     },
     "execution_count": 121,
     "metadata": {},
     "output_type": "execute_result"
    }
   ],
   "source": [
    "Net_Capital = coeff_df.NetCapital.values[0]\n",
    "Hours_per_Week = coeff_df.Hours_per_Week.values[0]\n",
    "Age = coeff_df.Age\n",
    "\n",
    "Net_Capital, Hours_per_Week, Age"
   ]
  },
  {
   "cell_type": "code",
   "execution_count": 123,
   "metadata": {},
   "outputs": [],
   "source": [
    "beta_NC = coeff_df.NetCapital\n",
    "beta_Hrs = coeff_df.Hours_per_Week\n",
    "beta_Age = coeff_df.Age"
   ]
  },
  {
   "cell_type": "code",
   "execution_count": 126,
   "metadata": {},
   "outputs": [
    {
     "name": "stdout",
     "output_type": "stream",
     "text": [
      "Log odds for Net_Capital:  0.9037519277705393\n",
      "Log odds for Hours_per_Week:  0.5003773737661161\n",
      "Log odds for Age:  0.5001744715018112\n"
     ]
    }
   ],
   "source": [
    "print(\"Log odds for Net_Capital: \", log_equation(Net_Capital, beta_NC))\n",
    "print(\"Log odds for Hours_per_Week: \", log_equation(Hours_per_Week, beta_Hrs))\n",
    "print(\"Log odds for Age: \", log_equation(Age, beta_Age))"
   ]
  },
  {
   "cell_type": "markdown",
   "metadata": {},
   "source": [
    "\n",
    "For each one unit Increas in Net Capital (Capital_Gain), there is 90.37% increase in the odds that the income of that person is greater than 50k. <br>\n",
    "\n",
    "For each one hour increase in Hours_per_week work someone does, there is 50.03% increase in the odds that the income of that person is greater than 50k.<br>\n",
    "\n",
    "For each one year increase in Age, there is 50% increase in the odds that the income of that person is greater than 50k."
   ]
  },
  {
   "cell_type": "code",
   "execution_count": null,
   "metadata": {},
   "outputs": [],
   "source": []
  }
 ],
 "metadata": {
  "kernelspec": {
   "display_name": "Python 3",
   "language": "python",
   "name": "python3"
  },
  "language_info": {
   "codemirror_mode": {
    "name": "ipython",
    "version": 3
   },
   "file_extension": ".py",
   "mimetype": "text/x-python",
   "name": "python",
   "nbconvert_exporter": "python",
   "pygments_lexer": "ipython3",
   "version": "3.7.4"
  }
 },
 "nbformat": 4,
 "nbformat_minor": 2
}
